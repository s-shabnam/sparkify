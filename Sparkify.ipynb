{
 "cells": [
  {
   "cell_type": "markdown",
   "metadata": {},
   "source": [
    "# Sparkify Project Workspace\n",
    "This workspace contains a tiny subset (128MB) of the full dataset available (12GB). Feel free to use this workspace to build your project, or to explore a smaller subset with Spark before deploying your cluster on the cloud. Instructions for setting up your Spark cluster is included in the last lesson of the Extracurricular Spark Course content.\n",
    "\n",
    "You can follow the steps below to guide your data analysis and model building portion of this project."
   ]
  },
  {
   "cell_type": "code",
   "execution_count": 1,
   "metadata": {},
   "outputs": [],
   "source": [
    "# import libraries\n",
    "import pyspark\n",
    "from pyspark import SparkConf\n",
    "from pyspark.sql import SparkSession\n",
    "from pyspark.sql import Window\n",
    "from pyspark.sql.types import StringType, DoubleType, IntegerType\n",
    "from pyspark.sql.functions import desc\n",
    "from pyspark.sql.functions import asc\n",
    "from pyspark.sql.functions import udf\n",
    "from pyspark.sql.functions import sum as Fsum\n",
    "from pyspark.sql.functions import max as Fmax\n",
    "from pyspark.sql.functions import isnan, count, when, col, desc, udf, col, sort_array, asc, avg\n",
    "\n",
    "import datetime\n",
    "\n",
    "import numpy as np\n",
    "import pandas as pd\n",
    "%matplotlib inline\n",
    "import matplotlib.pyplot as plt"
   ]
  },
  {
   "cell_type": "code",
   "execution_count": 2,
   "metadata": {},
   "outputs": [],
   "source": [
    "from pyspark.ml.feature import VectorAssembler, Normalizer, StandardScaler, StringIndexer, PCA\n",
    "from pyspark.ml.classification import LogisticRegression\n",
    "from pyspark.ml import Pipeline\n",
    "from pyspark.ml.tuning import CrossValidator, ParamGridBuilder\n",
    "from pyspark.ml.evaluation import MulticlassClassificationEvaluator"
   ]
  },
  {
   "cell_type": "code",
   "execution_count": 3,
   "metadata": {},
   "outputs": [],
   "source": [
    "# create a Spark session\n",
    "spark_session = SparkSession.builder.appName('Sparkify').getOrCreate()"
   ]
  },
  {
   "cell_type": "code",
   "execution_count": 4,
   "metadata": {},
   "outputs": [
    {
     "data": {
      "text/plain": [
       "[('spark.app.id', 'local-1574543959753'),\n",
       " ('spark.rdd.compress', 'True'),\n",
       " ('spark.driver.host', '86f3679f683e'),\n",
       " ('spark.app.name', 'Sparkify'),\n",
       " ('spark.driver.port', '43073'),\n",
       " ('spark.serializer.objectStreamReset', '100'),\n",
       " ('spark.master', 'local[*]'),\n",
       " ('spark.executor.id', 'driver'),\n",
       " ('spark.submit.deployMode', 'client'),\n",
       " ('spark.ui.showConsoleProgress', 'true')]"
      ]
     },
     "execution_count": 4,
     "metadata": {},
     "output_type": "execute_result"
    }
   ],
   "source": [
    "#Let's check if the change went through\n",
    "spark_session.sparkContext.getConf().getAll()"
   ]
  },
  {
   "cell_type": "code",
   "execution_count": 5,
   "metadata": {},
   "outputs": [
    {
     "data": {
      "text/html": [
       "\n",
       "            <div>\n",
       "                <p><b>SparkSession - in-memory</b></p>\n",
       "                \n",
       "        <div>\n",
       "            <p><b>SparkContext</b></p>\n",
       "\n",
       "            <p><a href=\"http://86f3679f683e:4040\">Spark UI</a></p>\n",
       "\n",
       "            <dl>\n",
       "              <dt>Version</dt>\n",
       "                <dd><code>v2.4.3</code></dd>\n",
       "              <dt>Master</dt>\n",
       "                <dd><code>local[*]</code></dd>\n",
       "              <dt>AppName</dt>\n",
       "                <dd><code>Sparkify</code></dd>\n",
       "            </dl>\n",
       "        </div>\n",
       "        \n",
       "            </div>\n",
       "        "
      ],
      "text/plain": [
       "<pyspark.sql.session.SparkSession at 0x7fce44617550>"
      ]
     },
     "execution_count": 5,
     "metadata": {},
     "output_type": "execute_result"
    }
   ],
   "source": [
    "spark_session"
   ]
  },
  {
   "cell_type": "markdown",
   "metadata": {},
   "source": [
    "# Load and Clean Dataset\n",
    "We begin with provided mini-dataset file called `mini_sparkify_event_data.json`. We load and clean the dataset, checking for invalid or missing data - for example, records without userids or sessionids. "
   ]
  },
  {
   "cell_type": "code",
   "execution_count": 7,
   "metadata": {},
   "outputs": [],
   "source": [
    "# read file\n",
    "path = \"mini_sparkify_event_data.json\"\n",
    "user_log = spark_session.read.json(path)"
   ]
  },
  {
   "cell_type": "code",
   "execution_count": 8,
   "metadata": {},
   "outputs": [
    {
     "data": {
      "text/plain": [
       "[Row(artist='Martha Tilston', auth='Logged In', firstName='Colin', gender='M', itemInSession=50, lastName='Freeman', length=277.89016, level='paid', location='Bakersfield, CA', method='PUT', page='NextSong', registration=1538173362000, sessionId=29, song='Rockpools', status=200, ts=1538352117000, userAgent='Mozilla/5.0 (Windows NT 6.1; WOW64; rv:31.0) Gecko/20100101 Firefox/31.0', userId='30'),\n",
       " Row(artist='Five Iron Frenzy', auth='Logged In', firstName='Micah', gender='M', itemInSession=79, lastName='Long', length=236.09424, level='free', location='Boston-Cambridge-Newton, MA-NH', method='PUT', page='NextSong', registration=1538331630000, sessionId=8, song='Canada', status=200, ts=1538352180000, userAgent='\"Mozilla/5.0 (Windows NT 6.1; WOW64) AppleWebKit/537.36 (KHTML, like Gecko) Chrome/37.0.2062.103 Safari/537.36\"', userId='9'),\n",
       " Row(artist='Adam Lambert', auth='Logged In', firstName='Colin', gender='M', itemInSession=51, lastName='Freeman', length=282.8273, level='paid', location='Bakersfield, CA', method='PUT', page='NextSong', registration=1538173362000, sessionId=29, song='Time For Miracles', status=200, ts=1538352394000, userAgent='Mozilla/5.0 (Windows NT 6.1; WOW64; rv:31.0) Gecko/20100101 Firefox/31.0', userId='30'),\n",
       " Row(artist='Enigma', auth='Logged In', firstName='Micah', gender='M', itemInSession=80, lastName='Long', length=262.71302, level='free', location='Boston-Cambridge-Newton, MA-NH', method='PUT', page='NextSong', registration=1538331630000, sessionId=8, song='Knocking On Forbidden Doors', status=200, ts=1538352416000, userAgent='\"Mozilla/5.0 (Windows NT 6.1; WOW64) AppleWebKit/537.36 (KHTML, like Gecko) Chrome/37.0.2062.103 Safari/537.36\"', userId='9'),\n",
       " Row(artist='Daft Punk', auth='Logged In', firstName='Colin', gender='M', itemInSession=52, lastName='Freeman', length=223.60771, level='paid', location='Bakersfield, CA', method='PUT', page='NextSong', registration=1538173362000, sessionId=29, song='Harder Better Faster Stronger', status=200, ts=1538352676000, userAgent='Mozilla/5.0 (Windows NT 6.1; WOW64; rv:31.0) Gecko/20100101 Firefox/31.0', userId='30')]"
      ]
     },
     "execution_count": 8,
     "metadata": {},
     "output_type": "execute_result"
    }
   ],
   "source": [
    "user_log.take(5)"
   ]
  },
  {
   "cell_type": "code",
   "execution_count": 9,
   "metadata": {},
   "outputs": [
    {
     "name": "stdout",
     "output_type": "stream",
     "text": [
      "root\n",
      " |-- artist: string (nullable = true)\n",
      " |-- auth: string (nullable = true)\n",
      " |-- firstName: string (nullable = true)\n",
      " |-- gender: string (nullable = true)\n",
      " |-- itemInSession: long (nullable = true)\n",
      " |-- lastName: string (nullable = true)\n",
      " |-- length: double (nullable = true)\n",
      " |-- level: string (nullable = true)\n",
      " |-- location: string (nullable = true)\n",
      " |-- method: string (nullable = true)\n",
      " |-- page: string (nullable = true)\n",
      " |-- registration: long (nullable = true)\n",
      " |-- sessionId: long (nullable = true)\n",
      " |-- song: string (nullable = true)\n",
      " |-- status: long (nullable = true)\n",
      " |-- ts: long (nullable = true)\n",
      " |-- userAgent: string (nullable = true)\n",
      " |-- userId: string (nullable = true)\n",
      "\n"
     ]
    }
   ],
   "source": [
    "user_log.printSchema()"
   ]
  },
  {
   "cell_type": "code",
   "execution_count": 10,
   "metadata": {},
   "outputs": [
    {
     "data": {
      "text/plain": [
       "DataFrame[summary: string, artist: string, auth: string, firstName: string, gender: string, itemInSession: string, lastName: string, length: string, level: string, location: string, method: string, page: string, registration: string, sessionId: string, song: string, status: string, ts: string, userAgent: string, userId: string]"
      ]
     },
     "execution_count": 10,
     "metadata": {},
     "output_type": "execute_result"
    }
   ],
   "source": [
    "user_log.describe()"
   ]
  },
  {
   "cell_type": "code",
   "execution_count": 11,
   "metadata": {},
   "outputs": [
    {
     "name": "stdout",
     "output_type": "stream",
     "text": [
      "+--------------+---------+---------+------+-------------+--------+---------+-----+---------------+------+--------+-------------+---------+---------+------+-------------+--------------------+------+\n",
      "|        artist|     auth|firstName|gender|itemInSession|lastName|   length|level|       location|method|    page| registration|sessionId|     song|status|           ts|           userAgent|userId|\n",
      "+--------------+---------+---------+------+-------------+--------+---------+-----+---------------+------+--------+-------------+---------+---------+------+-------------+--------------------+------+\n",
      "|Martha Tilston|Logged In|    Colin|     M|           50| Freeman|277.89016| paid|Bakersfield, CA|   PUT|NextSong|1538173362000|       29|Rockpools|   200|1538352117000|Mozilla/5.0 (Wind...|    30|\n",
      "+--------------+---------+---------+------+-------------+--------+---------+-----+---------------+------+--------+-------------+---------+---------+------+-------------+--------------------+------+\n",
      "only showing top 1 row\n",
      "\n"
     ]
    }
   ],
   "source": [
    "user_log.show(n=1)"
   ]
  },
  {
   "cell_type": "code",
   "execution_count": 12,
   "metadata": {},
   "outputs": [
    {
     "data": {
      "text/plain": [
       "286500"
      ]
     },
     "execution_count": 12,
     "metadata": {},
     "output_type": "execute_result"
    }
   ],
   "source": [
    "user_log.count()"
   ]
  },
  {
   "cell_type": "code",
   "execution_count": 13,
   "metadata": {},
   "outputs": [
    {
     "data": {
      "text/plain": [
       "286500"
      ]
     },
     "execution_count": 13,
     "metadata": {},
     "output_type": "execute_result"
    }
   ],
   "source": [
    "# Drop Rows with Missing Values\n",
    "user_log_valid = user_log.dropna(how = \"any\", subset = [\"userId\", \"sessionId\"])\n",
    "user_log_valid.count()"
   ]
  },
  {
   "cell_type": "markdown",
   "metadata": {},
   "source": [
    "As we can see all the log lines have userId and sessionId."
   ]
  },
  {
   "cell_type": "markdown",
   "metadata": {},
   "source": [
    "# 2. Exploratory Data Analysis\n",
    "When working with the full dataset, it is interesting to perform EDA by loading a small subset of the data and doing basic manipulations within Spark. In this workspace, we are provided with a small subset of data  to explore.\n",
    "\n",
    "### Define Churn\n",
    "\n",
    "Once we've done some preliminary analysis, we will create a column `Churn` to use as the label for our model. The values `Cancellation Confirmation`events are to define the churn, which happen for both paid and free users. We will  also look into the `Downgrade` events.\n",
    "\n",
    "### Explore Data\n",
    "Once we've defined churn, we perform some exploratory data analysis to observe the behavior for users who stayed vs users who churned. We start by exploring aggregates on these two groups of users, observing how much of a specific action they experienced per a certain time unit or number of songs played."
   ]
  },
  {
   "cell_type": "markdown",
   "metadata": {},
   "source": [
    "In order to be able to create the Churn and Downgrade columns we need to check the existing page column's values"
   ]
  },
  {
   "cell_type": "code",
   "execution_count": 14,
   "metadata": {},
   "outputs": [
    {
     "name": "stdout",
     "output_type": "stream",
     "text": [
      "+--------------------+\n",
      "|                page|\n",
      "+--------------------+\n",
      "|               About|\n",
      "|          Add Friend|\n",
      "|     Add to Playlist|\n",
      "|              Cancel|\n",
      "|Cancellation Conf...|\n",
      "|           Downgrade|\n",
      "|               Error|\n",
      "|                Help|\n",
      "|                Home|\n",
      "|               Login|\n",
      "|              Logout|\n",
      "|            NextSong|\n",
      "|            Register|\n",
      "|         Roll Advert|\n",
      "|       Save Settings|\n",
      "|            Settings|\n",
      "|    Submit Downgrade|\n",
      "| Submit Registration|\n",
      "|      Submit Upgrade|\n",
      "|         Thumbs Down|\n",
      "+--------------------+\n",
      "only showing top 20 rows\n",
      "\n"
     ]
    }
   ],
   "source": [
    "# Lets check all the pages visited by the users\n",
    "pages_df = user_log.select(\"page\").dropDuplicates().sort(\"page\")\n",
    "pages_df.show()"
   ]
  },
  {
   "cell_type": "code",
   "execution_count": 15,
   "metadata": {},
   "outputs": [],
   "source": [
    "def flag_row(df, column_name, column_value, new_column_name):\n",
    "    '''\n",
    "    Creates a new flag column called new_column_name, based on the value passed with the column_value. \n",
    "    If the value of the column column_name equals to column_value the corresponding value of new_column_name wille be 1.\n",
    "    othervise 0.\n",
    "    \n",
    "    :param: df : dataframe \n",
    "    :param: column_name : The name of the column to explore.\n",
    "    :param: column_value : The searched value\n",
    "    :param: new_column_name : The name of the new flag column\n",
    "    :type column_name: The name of the column to explore\n",
    "    :type column_value: The type defined for the column column_name\n",
    "    :type new_column_name: String, the name of the new flag column\n",
    "    :return:  the modified dataframe\n",
    "    :rtype: dataframe\n",
    "    '''\n",
    "    \n",
    "    flag_downgrade_event = udf(lambda x: 1 if x == column_value else 0, IntegerType())\n",
    "    df = df.withColumn(new_column_name, flag_downgrade_event(column_name))\n",
    "    return df"
   ]
  },
  {
   "cell_type": "markdown",
   "metadata": {},
   "source": [
    "### 2.1. Users perform Churn "
   ]
  },
  {
   "cell_type": "code",
   "execution_count": 16,
   "metadata": {},
   "outputs": [
    {
     "name": "stdout",
     "output_type": "stream",
     "text": [
      "+------+---------+---------+------+-------------+--------+------+-----+--------------------+------+--------------------+-------------+---------+----+------+-------------+--------------------+------+\n",
      "|artist|     auth|firstName|gender|itemInSession|lastName|length|level|            location|method|                page| registration|sessionId|song|status|           ts|           userAgent|userId|\n",
      "+------+---------+---------+------+-------------+--------+------+-----+--------------------+------+--------------------+-------------+---------+----+------+-------------+--------------------+------+\n",
      "|  null|Cancelled|   Adriel|     M|          104| Mendoza|  null| paid|  Kansas City, MO-KS|   GET|Cancellation Conf...|1535623466000|      514|null|   200|1538943990000|\"Mozilla/5.0 (Mac...|    18|\n",
      "|  null|Cancelled|    Diego|     M|           56|   Mckee|  null| paid|Phoenix-Mesa-Scot...|   GET|Cancellation Conf...|1537167593000|      540|null|   200|1539033046000|\"Mozilla/5.0 (iPh...|    32|\n",
      "|  null|Cancelled|    Mason|     M|           10|    Hart|  null| free|  Corpus Christi, TX|   GET|Cancellation Conf...|1533157139000|      174|null|   200|1539318918000|\"Mozilla/5.0 (Mac...|   125|\n",
      "+------+---------+---------+------+-------------+--------+------+-----+--------------------+------+--------------------+-------------+---------+----+------+-------------+--------------------+------+\n",
      "only showing top 3 rows\n",
      "\n"
     ]
    }
   ],
   "source": [
    "user_log.filter(\"page = 'Cancellation Confirmation'\").show(3)"
   ]
  },
  {
   "cell_type": "code",
   "execution_count": 17,
   "metadata": {},
   "outputs": [],
   "source": [
    "user_log = flag_row(user_log, \"page\", 'Cancellation Confirmation', \"Churn\")"
   ]
  },
  {
   "cell_type": "code",
   "execution_count": 18,
   "metadata": {},
   "outputs": [
    {
     "name": "stdout",
     "output_type": "stream",
     "text": [
      "+----------------+---------+---------+------+-------------+--------+---------+-----+--------------------+------+--------+-------------+---------+-----------------+------+-------------+--------------------+------+-----+\n",
      "|          artist|     auth|firstName|gender|itemInSession|lastName|   length|level|            location|method|    page| registration|sessionId|             song|status|           ts|           userAgent|userId|Churn|\n",
      "+----------------+---------+---------+------+-------------+--------+---------+-----+--------------------+------+--------+-------------+---------+-----------------+------+-------------+--------------------+------+-----+\n",
      "|  Martha Tilston|Logged In|    Colin|     M|           50| Freeman|277.89016| paid|     Bakersfield, CA|   PUT|NextSong|1538173362000|       29|        Rockpools|   200|1538352117000|Mozilla/5.0 (Wind...|    30|    0|\n",
      "|Five Iron Frenzy|Logged In|    Micah|     M|           79|    Long|236.09424| free|Boston-Cambridge-...|   PUT|NextSong|1538331630000|        8|           Canada|   200|1538352180000|\"Mozilla/5.0 (Win...|     9|    0|\n",
      "|    Adam Lambert|Logged In|    Colin|     M|           51| Freeman| 282.8273| paid|     Bakersfield, CA|   PUT|NextSong|1538173362000|       29|Time For Miracles|   200|1538352394000|Mozilla/5.0 (Wind...|    30|    0|\n",
      "+----------------+---------+---------+------+-------------+--------+---------+-----+--------------------+------+--------+-------------+---------+-----------------+------+-------------+--------------------+------+-----+\n",
      "only showing top 3 rows\n",
      "\n"
     ]
    }
   ],
   "source": [
    "user_log.show(3)"
   ]
  },
  {
   "cell_type": "markdown",
   "metadata": {},
   "source": [
    "### 2.2 Users Downgrade Their Accounts\n",
    "\n",
    "Let's find the users who downgraded their accounts and  flag those log entries. A window function and cumulative sum is used to distinguish each user's data as either pre or post downgrade events."
   ]
  },
  {
   "cell_type": "code",
   "execution_count": 19,
   "metadata": {},
   "outputs": [
    {
     "name": "stdout",
     "output_type": "stream",
     "text": [
      "+------+---------+---------+------+-------------+--------+------+-----+--------------------+------+----------------+-------------+---------+----+------+-------------+--------------------+------+-----+\n",
      "|artist|     auth|firstName|gender|itemInSession|lastName|length|level|            location|method|            page| registration|sessionId|song|status|           ts|           userAgent|userId|Churn|\n",
      "+------+---------+---------+------+-------------+--------+------+-----+--------------------+------+----------------+-------------+---------+----+------+-------------+--------------------+------+-----+\n",
      "|  null|Logged In|     Kael|     M|           47|   Baker|  null| paid|Kingsport-Bristol...|   PUT|Submit Downgrade|1533102330000|      249|null|   307|1538393619000|\"Mozilla/5.0 (Mac...|   131|    0|\n",
      "|  null|Logged In|   Calvin|     M|           17|Marshall|  null| paid|      Pittsburgh, PA|   PUT|Submit Downgrade|1537120757000|      313|null|   307|1538516445000|\"Mozilla/5.0 (Mac...|    38|    0|\n",
      "|  null|Logged In|  Kaylenn|     F|          354| Jenkins|  null| paid|           Price, UT|   PUT|Submit Downgrade|1535903878000|      479|null|   307|1538835479000|\"Mozilla/5.0 (Mac...|   141|    0|\n",
      "+------+---------+---------+------+-------------+--------+------+-----+--------------------+------+----------------+-------------+---------+----+------+-------------+--------------------+------+-----+\n",
      "only showing top 3 rows\n",
      "\n"
     ]
    }
   ],
   "source": [
    "user_log.filter(\"page = 'Submit Downgrade'\").show(3)"
   ]
  },
  {
   "cell_type": "code",
   "execution_count": 20,
   "metadata": {},
   "outputs": [],
   "source": [
    "user_log = flag_row(user_log, \"page\", 'Submit Downgrade', \"Downgraded\")"
   ]
  },
  {
   "cell_type": "code",
   "execution_count": 21,
   "metadata": {},
   "outputs": [
    {
     "name": "stdout",
     "output_type": "stream",
     "text": [
      "+----------------+---------+---------+------+-------------+--------+---------+-----+--------------------+------+--------+-------------+---------+-----------------+------+-------------+--------------------+------+-----+----------+\n",
      "|          artist|     auth|firstName|gender|itemInSession|lastName|   length|level|            location|method|    page| registration|sessionId|             song|status|           ts|           userAgent|userId|Churn|Downgraded|\n",
      "+----------------+---------+---------+------+-------------+--------+---------+-----+--------------------+------+--------+-------------+---------+-----------------+------+-------------+--------------------+------+-----+----------+\n",
      "|  Martha Tilston|Logged In|    Colin|     M|           50| Freeman|277.89016| paid|     Bakersfield, CA|   PUT|NextSong|1538173362000|       29|        Rockpools|   200|1538352117000|Mozilla/5.0 (Wind...|    30|    0|         0|\n",
      "|Five Iron Frenzy|Logged In|    Micah|     M|           79|    Long|236.09424| free|Boston-Cambridge-...|   PUT|NextSong|1538331630000|        8|           Canada|   200|1538352180000|\"Mozilla/5.0 (Win...|     9|    0|         0|\n",
      "|    Adam Lambert|Logged In|    Colin|     M|           51| Freeman| 282.8273| paid|     Bakersfield, CA|   PUT|NextSong|1538173362000|       29|Time For Miracles|   200|1538352394000|Mozilla/5.0 (Wind...|    30|    0|         0|\n",
      "+----------------+---------+---------+------+-------------+--------+---------+-----+--------------------+------+--------+-------------+---------+-----------------+------+-------------+--------------------+------+-----+----------+\n",
      "only showing top 3 rows\n",
      "\n"
     ]
    }
   ],
   "source": [
    "user_log.show(3)"
   ]
  },
  {
   "cell_type": "markdown",
   "metadata": {},
   "source": [
    "As we added new columns, we can go on with our analysis. Let's begin with userId."
   ]
  },
  {
   "cell_type": "code",
   "execution_count": 22,
   "metadata": {},
   "outputs": [
    {
     "name": "stdout",
     "output_type": "stream",
     "text": [
      "+------+\n",
      "|userId|\n",
      "+------+\n",
      "|      |\n",
      "|    10|\n",
      "|   100|\n",
      "|100001|\n",
      "|100002|\n",
      "|100003|\n",
      "|100004|\n",
      "|100005|\n",
      "|100006|\n",
      "|100007|\n",
      "|100008|\n",
      "|100009|\n",
      "|100010|\n",
      "|100011|\n",
      "|100012|\n",
      "|100013|\n",
      "|100014|\n",
      "|100015|\n",
      "|100016|\n",
      "|100017|\n",
      "+------+\n",
      "only showing top 20 rows\n",
      "\n"
     ]
    },
    {
     "data": {
      "text/plain": [
       "226"
      ]
     },
     "execution_count": 22,
     "metadata": {},
     "output_type": "execute_result"
    }
   ],
   "source": [
    "# Lets check all the user ids in our dataset\n",
    "user_ids_df = user_log.select(\"userId\").dropDuplicates().sort(\"userId\")\n",
    "user_ids_df.show()\n",
    "user_ids_df.count()"
   ]
  },
  {
   "cell_type": "code",
   "execution_count": 23,
   "metadata": {},
   "outputs": [
    {
     "data": {
      "text/plain": [
       "[Row(userId='10', sessionId=9, page='NextSong', song='Ses Monuments'),\n",
       " Row(userId='10', sessionId=9, page='NextSong', song='Morning Sky'),\n",
       " Row(userId='10', sessionId=9, page='NextSong', song=\"Du Hast'n Freund In Mir (You've Got A Friend In Me)\"),\n",
       " Row(userId='10', sessionId=9, page='NextSong', song='Playera'),\n",
       " Row(userId='10', sessionId=9, page='NextSong', song=\"Burnin' For You\"),\n",
       " Row(userId='10', sessionId=9, page='NextSong', song='Sky Is Falling'),\n",
       " Row(userId='10', sessionId=9, page='NextSong', song='Skinhead Stomp'),\n",
       " Row(userId='10', sessionId=9, page='Thumbs Up', song=None),\n",
       " Row(userId='10', sessionId=9, page='NextSong', song=\"You're The One\"),\n",
       " Row(userId='10', sessionId=9, page='NextSong', song='Strange Days'),\n",
       " Row(userId='10', sessionId=9, page='NextSong', song='Addicted To Love'),\n",
       " Row(userId='10', sessionId=9, page='Add Friend', song=None),\n",
       " Row(userId='10', sessionId=9, page='Add Friend', song=None),\n",
       " Row(userId='10', sessionId=9, page='NextSong', song='Desert Sand'),\n",
       " Row(userId='10', sessionId=9, page='NextSong', song='Amnesia (Album Version)'),\n",
       " Row(userId='10', sessionId=9, page='Thumbs Up', song=None),\n",
       " Row(userId='10', sessionId=9, page='NextSong', song='Fun And Games'),\n",
       " Row(userId='10', sessionId=9, page='NextSong', song='La Pared'),\n",
       " Row(userId='10', sessionId=9, page='NextSong', song='The Rhythm Method (Move!)'),\n",
       " Row(userId='10', sessionId=9, page='NextSong', song='Rest'),\n",
       " Row(userId='10', sessionId=9, page='NextSong', song='The List'),\n",
       " Row(userId='10', sessionId=9, page='NextSong', song='Undo'),\n",
       " Row(userId='10', sessionId=9, page='NextSong', song='Sober [Live]'),\n",
       " Row(userId='10', sessionId=9, page='NextSong', song='Collecting Dust'),\n",
       " Row(userId='10', sessionId=9, page='NextSong', song='No BalanÃ\\x83Â§o Da Canoa'),\n",
       " Row(userId='10', sessionId=9, page='NextSong', song='Are You In?'),\n",
       " Row(userId='10', sessionId=9, page='NextSong', song='Bonafied Lovin (Radio Edit)'),\n",
       " Row(userId='10', sessionId=9, page='Logout', song=None),\n",
       " Row(userId='10', sessionId=9, page='Home', song=None),\n",
       " Row(userId='10', sessionId=9, page='NextSong', song='Make Love To Your Mind'),\n",
       " Row(userId='10', sessionId=9, page='NextSong', song='Behind The Shadow'),\n",
       " Row(userId='10', sessionId=9, page='NextSong', song='Lag Wagon'),\n",
       " Row(userId='10', sessionId=9, page='NextSong', song='O Fado NÃ\\x83Â£o Ã\\x83Â\\x89 Mau'),\n",
       " Row(userId='10', sessionId=9, page='NextSong', song='The Power Of Love'),\n",
       " Row(userId='10', sessionId=9, page='NextSong', song='One Tribe'),\n",
       " Row(userId='10', sessionId=9, page='NextSong', song='Ella Elle L A'),\n",
       " Row(userId='10', sessionId=9, page='NextSong', song='Malawi'),\n",
       " Row(userId='10', sessionId=9, page='NextSong', song='Until The End Of Time'),\n",
       " Row(userId='10', sessionId=9, page='NextSong', song='Marry Me'),\n",
       " Row(userId='10', sessionId=9, page='Home', song=None),\n",
       " Row(userId='10', sessionId=9, page='NextSong', song='O Brasil'),\n",
       " Row(userId='10', sessionId=9, page='NextSong', song='Such Great Heights'),\n",
       " Row(userId='10', sessionId=9, page='NextSong', song='Where Are You'),\n",
       " Row(userId='10', sessionId=9, page='NextSong', song='Sax Man'),\n",
       " Row(userId='10', sessionId=9, page='NextSong', song='Rorol'),\n",
       " Row(userId='10', sessionId=9, page='NextSong', song=\"Don't Stop The Music\"),\n",
       " Row(userId='10', sessionId=9, page='NextSong', song='The First Person On Earth (Album Version)'),\n",
       " Row(userId='10', sessionId=9, page='NextSong', song='Learning To Fall'),\n",
       " Row(userId='10', sessionId=9, page='NextSong', song='Mambo Swing'),\n",
       " Row(userId='10', sessionId=9, page='NextSong', song=\"Life's What You Make It\"),\n",
       " Row(userId='10', sessionId=9, page='Home', song=None),\n",
       " Row(userId='10', sessionId=9, page='Settings', song=None),\n",
       " Row(userId='10', sessionId=9, page='NextSong', song='Home For Carnival (Non-album track)'),\n",
       " Row(userId='10', sessionId=9, page='NextSong', song='Neighborhood #3 (Power Out)'),\n",
       " Row(userId='10', sessionId=9, page='NextSong', song='Red Flag (Album Version)'),\n",
       " Row(userId='10', sessionId=9, page='NextSong', song='Louisiana Rain'),\n",
       " Row(userId='10', sessionId=9, page='NextSong', song='The Good Fight'),\n",
       " Row(userId='10', sessionId=9, page='NextSong', song='Invitation To Understanding'),\n",
       " Row(userId='10', sessionId=9, page='NextSong', song='Wild World'),\n",
       " Row(userId='10', sessionId=9, page='NextSong', song='She Wants To Move (DFA Remix)'),\n",
       " Row(userId='10', sessionId=9, page='NextSong', song='Lucky (Album Version)'),\n",
       " Row(userId='10', sessionId=9, page='Add to Playlist', song=None),\n",
       " Row(userId='10', sessionId=9, page='NextSong', song='View From Heaven'),\n",
       " Row(userId='10', sessionId=9, page='Thumbs Up', song=None),\n",
       " Row(userId='10', sessionId=9, page='NextSong', song=\"Don't Stop The Music\"),\n",
       " Row(userId='10', sessionId=9, page='NextSong', song='Monster (Album Version)'),\n",
       " Row(userId='10', sessionId=9, page='NextSong', song='One More Sad Song'),\n",
       " Row(userId='10', sessionId=9, page='Home', song=None),\n",
       " Row(userId='10', sessionId=9, page='NextSong', song='Wait For The Summer'),\n",
       " Row(userId='10', sessionId=9, page='Add Friend', song=None),\n",
       " Row(userId='10', sessionId=595, page='NextSong', song='Bartender'),\n",
       " Row(userId='10', sessionId=595, page='NextSong', song='Suite: Judy Blue Eyes [Remastered LP Version]'),\n",
       " Row(userId='10', sessionId=595, page='NextSong', song='Scena Pojavljivanja Majke'),\n",
       " Row(userId='10', sessionId=595, page='NextSong', song='Tides'),\n",
       " Row(userId='10', sessionId=595, page='NextSong', song='Broken'),\n",
       " Row(userId='10', sessionId=595, page='NextSong', song='Slowly'),\n",
       " Row(userId='10', sessionId=595, page='Home', song=None),\n",
       " Row(userId='10', sessionId=595, page='Add Friend', song=None),\n",
       " Row(userId='10', sessionId=595, page='NextSong', song='Sehr kosmisch'),\n",
       " Row(userId='10', sessionId=595, page='NextSong', song=\"You're The One\"),\n",
       " Row(userId='10', sessionId=595, page='NextSong', song='Love In Plaster'),\n",
       " Row(userId='10', sessionId=595, page='NextSong', song='That Should Be Me'),\n",
       " Row(userId='10', sessionId=595, page='NextSong', song='Crawling (Album Version)'),\n",
       " Row(userId='10', sessionId=595, page='Thumbs Up', song=None),\n",
       " Row(userId='10', sessionId=595, page='NextSong', song='Verdammtnochma'),\n",
       " Row(userId='10', sessionId=595, page='NextSong', song='Cosmic Dancer'),\n",
       " Row(userId='10', sessionId=595, page='NextSong', song='Lies'),\n",
       " Row(userId='10', sessionId=595, page='Downgrade', song=None),\n",
       " Row(userId='10', sessionId=595, page='Logout', song=None),\n",
       " Row(userId='10', sessionId=595, page='Home', song=None),\n",
       " Row(userId='10', sessionId=595, page='NextSong', song='Festering Fiesta'),\n",
       " Row(userId='10', sessionId=595, page='NextSong', song='Where Is Everybody?'),\n",
       " Row(userId='10', sessionId=595, page='NextSong', song='High Charity Suite 2'),\n",
       " Row(userId='10', sessionId=595, page='NextSong', song='Night Village'),\n",
       " Row(userId='10', sessionId=595, page='NextSong', song='Resistance'),\n",
       " Row(userId='10', sessionId=595, page='NextSong', song='Mary Mary'),\n",
       " Row(userId='10', sessionId=595, page='NextSong', song='Far Behind  (Album Version)'),\n",
       " Row(userId='10', sessionId=595, page='NextSong', song='Lydia'),\n",
       " Row(userId='10', sessionId=595, page='NextSong', song=\"I'm In A Hurry (And Don't Know Why)\"),\n",
       " Row(userId='10', sessionId=595, page='NextSong', song='Midnight'),\n",
       " Row(userId='10', sessionId=595, page='NextSong', song='Float On'),\n",
       " Row(userId='10', sessionId=595, page='Thumbs Up', song=None),\n",
       " Row(userId='10', sessionId=595, page='NextSong', song='TÃ\\x83Â© Para Tres'),\n",
       " Row(userId='10', sessionId=595, page='NextSong', song='Morning Tide'),\n",
       " Row(userId='10', sessionId=595, page='NextSong', song='Numb (album version)'),\n",
       " Row(userId='10', sessionId=595, page='NextSong', song='I Do Not Hook Up'),\n",
       " Row(userId='10', sessionId=595, page='NextSong', song='One Red Thread'),\n",
       " Row(userId='10', sessionId=595, page='Thumbs Up', song=None),\n",
       " Row(userId='10', sessionId=595, page='Add to Playlist', song=None),\n",
       " Row(userId='10', sessionId=595, page='NextSong', song='The Long Way Around'),\n",
       " Row(userId='10', sessionId=595, page='Thumbs Up', song=None),\n",
       " Row(userId='10', sessionId=595, page='NextSong', song='Easily (Album Version)'),\n",
       " Row(userId='10', sessionId=595, page='NextSong', song='Gra - for solo clarinet (1993)'),\n",
       " Row(userId='10', sessionId=595, page='NextSong', song=\"You Don't Know How It Feels (Album Version)\"),\n",
       " Row(userId='10', sessionId=595, page='NextSong', song='Picture'),\n",
       " Row(userId='10', sessionId=595, page='Thumbs Up', song=None),\n",
       " Row(userId='10', sessionId=595, page='NextSong', song='You Do Something To Me'),\n",
       " Row(userId='10', sessionId=595, page='NextSong', song='My Heart (Album Version)'),\n",
       " Row(userId='10', sessionId=595, page='NextSong', song='Dog Eats Dog'),\n",
       " Row(userId='10', sessionId=595, page='NextSong', song=\"Freak'in Me\"),\n",
       " Row(userId='10', sessionId=595, page='NextSong', song='Electric Avenue'),\n",
       " Row(userId='10', sessionId=595, page='NextSong', song='Undo'),\n",
       " Row(userId='10', sessionId=595, page='NextSong', song='Into The Trees (Serenetti Part 3)'),\n",
       " Row(userId='10', sessionId=595, page='NextSong', song=\"Hips Don't Lie\"),\n",
       " Row(userId='10', sessionId=595, page='NextSong', song='Horn Concerto No. 4 in E flat K495: II. Romance (Andante cantabile)'),\n",
       " Row(userId='10', sessionId=595, page='Home', song=None),\n",
       " Row(userId='10', sessionId=595, page='NextSong', song='Risingson'),\n",
       " Row(userId='10', sessionId=595, page='NextSong', song='Join The Chant'),\n",
       " Row(userId='10', sessionId=595, page='Home', song=None),\n",
       " Row(userId='10', sessionId=595, page='NextSong', song='King For A Day'),\n",
       " Row(userId='10', sessionId=595, page='NextSong', song='Digital Love'),\n",
       " Row(userId='10', sessionId=595, page='Thumbs Down', song=None),\n",
       " Row(userId='10', sessionId=595, page='NextSong', song='Cobbler_ The'),\n",
       " Row(userId='10', sessionId=595, page='NextSong', song='Undo'),\n",
       " Row(userId='10', sessionId=595, page='NextSong', song='Love Shack'),\n",
       " Row(userId='10', sessionId=595, page='NextSong', song='Just The Two Of Us (WSM Compilation Edit)'),\n",
       " Row(userId='10', sessionId=595, page='NextSong', song='Long Distance Runner (Straight On Album Version)'),\n",
       " Row(userId='10', sessionId=595, page='NextSong', song='Aghia Sophia (2008 Digital Remaster)'),\n",
       " Row(userId='10', sessionId=595, page='NextSong', song='No es lo mismo'),\n",
       " Row(userId='10', sessionId=595, page='Downgrade', song=None),\n",
       " Row(userId='10', sessionId=595, page='NextSong', song='Teenager'),\n",
       " Row(userId='10', sessionId=595, page='NextSong', song='Crush On You'),\n",
       " Row(userId='10', sessionId=595, page='NextSong', song='Change'),\n",
       " Row(userId='10', sessionId=595, page='NextSong', song='Ghosts'),\n",
       " Row(userId='10', sessionId=595, page='NextSong', song='How We Roll'),\n",
       " Row(userId='10', sessionId=595, page='NextSong', song='Gaoth Barra Na dTonn'),\n",
       " Row(userId='10', sessionId=595, page='NextSong', song='One'),\n",
       " Row(userId='10', sessionId=595, page='Add to Playlist', song=None),\n",
       " Row(userId='10', sessionId=595, page='NextSong', song='Stuck In The Middle With You'),\n",
       " Row(userId='10', sessionId=595, page='NextSong', song='Stay With Me (Album Version)'),\n",
       " Row(userId='10', sessionId=595, page='NextSong', song='Cherish'),\n",
       " Row(userId='10', sessionId=595, page='NextSong', song='Grandfather Clock'),\n",
       " Row(userId='10', sessionId=595, page='NextSong', song='Dove Amongst Eagles (For A Time Like This Album Version)'),\n",
       " Row(userId='10', sessionId=595, page='NextSong', song='Leggy Blonde [feat. Rhys Darby] (Album Version)'),\n",
       " Row(userId='10', sessionId=595, page='Add to Playlist', song=None),\n",
       " Row(userId='10', sessionId=595, page='NextSong', song='29_000 Miles Per Hour (LP Version)'),\n",
       " Row(userId='10', sessionId=595, page='NextSong', song='DVNO'),\n",
       " Row(userId='10', sessionId=595, page='NextSong', song=\"Ain't Misbehavin\"),\n",
       " Row(userId='10', sessionId=595, page='NextSong', song='Tenuousness'),\n",
       " Row(userId='10', sessionId=595, page='NextSong', song='Drown Me Slowly'),\n",
       " Row(userId='10', sessionId=595, page='Home', song=None),\n",
       " Row(userId='10', sessionId=595, page='NextSong', song='Bang Bang'),\n",
       " Row(userId='10', sessionId=595, page='NextSong', song='All The Years'),\n",
       " Row(userId='10', sessionId=595, page='NextSong', song='The Power of Nothingness'),\n",
       " Row(userId='10', sessionId=595, page='NextSong', song='Dirty Mack (Explicit)'),\n",
       " Row(userId='10', sessionId=595, page='NextSong', song='Narcotic (Long Version)'),\n",
       " Row(userId='10', sessionId=595, page='Add Friend', song=None),\n",
       " Row(userId='10', sessionId=595, page='NextSong', song='Tennessee Pusher'),\n",
       " Row(userId='10', sessionId=595, page='NextSong', song='I Will Be Here'),\n",
       " Row(userId='10', sessionId=595, page='NextSong', song='The Shake'),\n",
       " Row(userId='10', sessionId=595, page='NextSong', song='No One'),\n",
       " Row(userId='10', sessionId=595, page='NextSong', song='Hello'),\n",
       " Row(userId='10', sessionId=595, page='NextSong', song='Burden In My Hand'),\n",
       " Row(userId='10', sessionId=595, page='NextSong', song='Redemption (Album Version)'),\n",
       " Row(userId='10', sessionId=595, page='NextSong', song='Man In The Box'),\n",
       " Row(userId='10', sessionId=595, page='Add to Playlist', song=None),\n",
       " Row(userId='10', sessionId=595, page='NextSong', song='Mutiny (album version)'),\n",
       " Row(userId='10', sessionId=595, page='NextSong', song='Hey'),\n",
       " Row(userId='10', sessionId=595, page='Home', song=None),\n",
       " Row(userId='10', sessionId=595, page='NextSong', song='Love Story'),\n",
       " Row(userId='10', sessionId=595, page='NextSong', song='Miss You'),\n",
       " Row(userId='10', sessionId=595, page='Logout', song=None),\n",
       " Row(userId='10', sessionId=595, page='Home', song=None),\n",
       " Row(userId='10', sessionId=595, page='NextSong', song='Time Consumer'),\n",
       " Row(userId='10', sessionId=595, page='NextSong', song='Make It Rain (Remix) (Edited) (Feat. R. Kelly_ T.I._ Lil Wayne_ Baby_ Rick Ross and Ace Mac)'),\n",
       " Row(userId='10', sessionId=595, page='NextSong', song='All I Ever Wanted'),\n",
       " Row(userId='10', sessionId=595, page='NextSong', song='Seraphim'),\n",
       " Row(userId='10', sessionId=595, page='Thumbs Up', song=None),\n",
       " Row(userId='10', sessionId=595, page='NextSong', song='Rise To The Challenge'),\n",
       " Row(userId='10', sessionId=595, page='NextSong', song='Hide & Seek'),\n",
       " Row(userId='10', sessionId=595, page='NextSong', song='Geek In The Pink (Album Version)'),\n",
       " Row(userId='10', sessionId=595, page='Settings', song=None),\n",
       " Row(userId='10', sessionId=595, page='NextSong', song='Do You Wanna Dance'),\n",
       " Row(userId='10', sessionId=595, page='NextSong', song='Lovesong'),\n",
       " Row(userId='10', sessionId=595, page='NextSong', song='With Arms Outstretched (Album Version)'),\n",
       " Row(userId='10', sessionId=595, page='NextSong', song='First Dance'),\n",
       " Row(userId='10', sessionId=595, page='NextSong', song='AzÃ\\x83Âºcar'),\n",
       " Row(userId='10', sessionId=595, page='NextSong', song='Never Gonna Happen'),\n",
       " Row(userId='10', sessionId=595, page='NextSong', song='Llego tarde'),\n",
       " Row(userId='10', sessionId=595, page='NextSong', song='Bonafied Lovin (Radio Edit)'),\n",
       " Row(userId='10', sessionId=595, page='Thumbs Up', song=None),\n",
       " Row(userId='10', sessionId=595, page='NextSong', song=\"Who's Real\"),\n",
       " Row(userId='10', sessionId=595, page='NextSong', song='Cosmic Dancer'),\n",
       " Row(userId='10', sessionId=595, page='NextSong', song='We Never Change'),\n",
       " Row(userId='10', sessionId=595, page='NextSong', song='Butcher Pete'),\n",
       " Row(userId='10', sessionId=595, page='NextSong', song='Bitter Sweet Symphony'),\n",
       " Row(userId='10', sessionId=595, page='NextSong', song='Broadway'),\n",
       " Row(userId='10', sessionId=595, page='NextSong', song='Rock It'),\n",
       " Row(userId='10', sessionId=595, page='NextSong', song='Gli Amici Miei'),\n",
       " Row(userId='10', sessionId=595, page='NextSong', song='No Place Like London'),\n",
       " Row(userId='10', sessionId=595, page='NextSong', song='Happy Birthday'),\n",
       " Row(userId='10', sessionId=595, page='Thumbs Up', song=None),\n",
       " Row(userId='10', sessionId=595, page='NextSong', song=\"You Know You're Right\"),\n",
       " Row(userId='10', sessionId=595, page='NextSong', song=\"It's My Life\"),\n",
       " Row(userId='10', sessionId=595, page='Thumbs Up', song=None),\n",
       " Row(userId='10', sessionId=595, page='NextSong', song=\"Pony (It's OK)\"),\n",
       " Row(userId='10', sessionId=595, page='NextSong', song='Let Me Be Your Swear Word'),\n",
       " Row(userId='10', sessionId=595, page='NextSong', song='Like A Rolling Stone'),\n",
       " Row(userId='10', sessionId=595, page='NextSong', song='Sayonara-Nostalgia'),\n",
       " Row(userId='10', sessionId=595, page='NextSong', song='Hey! Baby'),\n",
       " Row(userId='10', sessionId=595, page='NextSong', song='Catch You Baby (Steve Pitron & Max Sanna Radio Edit)'),\n",
       " Row(userId='10', sessionId=595, page='Thumbs Down', song=None),\n",
       " Row(userId='10', sessionId=595, page='NextSong', song='Mamma'),\n",
       " Row(userId='10', sessionId=595, page='NextSong', song=\"We're No Here\"),\n",
       " Row(userId='10', sessionId=595, page='NextSong', song='Under The Bridge (Album Version)'),\n",
       " Row(userId='10', sessionId=595, page='NextSong', song='Doing Fine'),\n",
       " Row(userId='10', sessionId=595, page='NextSong', song='Sax Man'),\n",
       " Row(userId='10', sessionId=595, page='NextSong', song='Salt Water Sound'),\n",
       " Row(userId='10', sessionId=595, page='NextSong', song='Deprogram'),\n",
       " Row(userId='10', sessionId=595, page='NextSong', song='Head Over Feet (Album Version)'),\n",
       " Row(userId='10', sessionId=595, page='NextSong', song='Pobre PapÃ\\x83Â¡'),\n",
       " Row(userId='10', sessionId=595, page='NextSong', song='The Indifference Of Heaven'),\n",
       " Row(userId='10', sessionId=595, page='NextSong', song='Daylight'),\n",
       " Row(userId='10', sessionId=595, page='NextSong', song='Make Tonight All Mine'),\n",
       " Row(userId='10', sessionId=595, page='NextSong', song='Caravan'),\n",
       " Row(userId='10', sessionId=595, page='NextSong', song='Learn To Fly'),\n",
       " Row(userId='10', sessionId=595, page='NextSong', song=\"Ain't Misbehavin\"),\n",
       " Row(userId='10', sessionId=595, page='NextSong', song=\"Thinkin' Bout You\"),\n",
       " Row(userId='10', sessionId=595, page='NextSong', song=\"Who's The Mack? (Explicit)\"),\n",
       " Row(userId='10', sessionId=595, page='NextSong', song=\"Don't Answer Me\"),\n",
       " Row(userId='10', sessionId=595, page='NextSong', song='If We Ever Meet Again'),\n",
       " Row(userId='10', sessionId=595, page='NextSong', song='Always'),\n",
       " Row(userId='10', sessionId=595, page='NextSong', song='Naked'),\n",
       " Row(userId='10', sessionId=595, page='NextSong', song='Anjo'),\n",
       " Row(userId='10', sessionId=595, page='NextSong', song='The Bottomless Hole'),\n",
       " Row(userId='10', sessionId=595, page='NextSong', song='Cannonball'),\n",
       " Row(userId='10', sessionId=595, page='NextSong', song='Heavy Soul '),\n",
       " Row(userId='10', sessionId=595, page='NextSong', song='Count The Days (Album)'),\n",
       " Row(userId='10', sessionId=595, page='NextSong', song='Lullaby'),\n",
       " Row(userId='10', sessionId=595, page='NextSong', song='Infinity'),\n",
       " Row(userId='10', sessionId=595, page='NextSong', song='Chelsea Burns (Live In Reykjavik 2008)'),\n",
       " Row(userId='10', sessionId=595, page='NextSong', song='Stay'),\n",
       " Row(userId='10', sessionId=595, page='NextSong', song='Since 77'),\n",
       " Row(userId='10', sessionId=595, page='NextSong', song='Blame It On The Boogie'),\n",
       " Row(userId='10', sessionId=595, page='NextSong', song='High Speed'),\n",
       " Row(userId='10', sessionId=595, page='NextSong', song='West Coast Smoker'),\n",
       " Row(userId='10', sessionId=595, page='Home', song=None),\n",
       " Row(userId='10', sessionId=595, page='NextSong', song='Play That Funky Music'),\n",
       " Row(userId='10', sessionId=595, page='NextSong', song='Theme From Respect'),\n",
       " Row(userId='10', sessionId=595, page='NextSong', song='Waterfall (Spirit Of The Rainforest Album Version)'),\n",
       " Row(userId='10', sessionId=595, page='NextSong', song='Where Is My Mind?'),\n",
       " Row(userId='10', sessionId=595, page='NextSong', song='Qing Gan De Jin Qu (Album Version)'),\n",
       " Row(userId='10', sessionId=595, page='NextSong', song=\"Nothin' On You [feat. Bruno Mars] (Album Version)\"),\n",
       " Row(userId='10', sessionId=595, page='Home', song=None),\n",
       " Row(userId='10', sessionId=595, page='NextSong', song='El Palo'),\n",
       " Row(userId='10', sessionId=595, page='NextSong', song='Outro: Learning'),\n",
       " Row(userId='10', sessionId=595, page='NextSong', song='Dreams-Come-True-Girl'),\n",
       " Row(userId='10', sessionId=595, page='NextSong', song='Almaz'),\n",
       " Row(userId='10', sessionId=595, page='NextSong', song=\"Barber's Adagio For Strings (Ferry Corsten Remix)\"),\n",
       " Row(userId='10', sessionId=595, page='NextSong', song='Make Love To Your Mind'),\n",
       " Row(userId='10', sessionId=595, page='NextSong', song='Bring Back the Days of Yea and Nay'),\n",
       " Row(userId='10', sessionId=595, page='NextSong', song='Happy Day'),\n",
       " Row(userId='10', sessionId=595, page='NextSong', song='ROCKSTAR 101'),\n",
       " Row(userId='10', sessionId=595, page='NextSong', song='Bunia'),\n",
       " Row(userId='10', sessionId=595, page='NextSong', song='Sway (Album Version)'),\n",
       " Row(userId='10', sessionId=595, page='NextSong', song='The Plague'),\n",
       " Row(userId='10', sessionId=595, page='NextSong', song=\"It's Beginning To Get To Me\"),\n",
       " Row(userId='10', sessionId=595, page='NextSong', song='Conversations'),\n",
       " Row(userId='10', sessionId=595, page='NextSong', song='Spirit In The Sky'),\n",
       " Row(userId='10', sessionId=595, page='NextSong', song='Jack & Diane'),\n",
       " Row(userId='10', sessionId=595, page='NextSong', song='Addams Groove'),\n",
       " Row(userId='10', sessionId=595, page='NextSong', song=\"Livin' Part Of Life\"),\n",
       " Row(userId='10', sessionId=595, page='NextSong', song='Paperweight'),\n",
       " Row(userId='10', sessionId=595, page='NextSong', song='So Long Friend (Album Version)'),\n",
       " Row(userId='10', sessionId=595, page='NextSong', song='Obsessed'),\n",
       " Row(userId='10', sessionId=595, page='Thumbs Up', song=None),\n",
       " Row(userId='10', sessionId=595, page='NextSong', song='Bring Me To Life'),\n",
       " Row(userId='10', sessionId=595, page='NextSong', song='Shadrach'),\n",
       " Row(userId='10', sessionId=595, page='NextSong', song='The Maestro'),\n",
       " Row(userId='10', sessionId=595, page='NextSong', song='Agua'),\n",
       " Row(userId='10', sessionId=595, page='NextSong', song='The Way I Are'),\n",
       " Row(userId='10', sessionId=595, page='NextSong', song='Smothered (Album Version)'),\n",
       " Row(userId='10', sessionId=595, page='NextSong', song='Marry Me'),\n",
       " Row(userId='10', sessionId=595, page='NextSong', song='Family Affair (Digitally Remastered)'),\n",
       " Row(userId='10', sessionId=595, page='NextSong', song='What You Were'),\n",
       " Row(userId='10', sessionId=595, page='NextSong', song=\"Savin' Me\"),\n",
       " Row(userId='10', sessionId=595, page='NextSong', song='I Wanna Be Sedated (Remastered Album Version )'),\n",
       " Row(userId='10', sessionId=595, page='NextSong', song='Coffin Nails (Album Version)'),\n",
       " Row(userId='10', sessionId=595, page='NextSong', song='Faithful (LP Version)'),\n",
       " Row(userId='10', sessionId=595, page='NextSong', song='Aerial Bright Dark Round'),\n",
       " Row(userId='10', sessionId=595, page='Add to Playlist', song=None),\n",
       " Row(userId='10', sessionId=595, page='NextSong', song='Mirror_ Mirror'),\n",
       " Row(userId='10', sessionId=595, page='NextSong', song='Lost Cause'),\n",
       " Row(userId='10', sessionId=595, page='NextSong', song='Nuits de St. Germain des Pres'),\n",
       " Row(userId='10', sessionId=595, page='NextSong', song='Thinking Of You'),\n",
       " Row(userId='10', sessionId=595, page='Thumbs Up', song=None),\n",
       " Row(userId='10', sessionId=595, page='NextSong', song='Nine Times Out Of Ten (1998 Digital Remaster)'),\n",
       " Row(userId='10', sessionId=595, page='NextSong', song='Rocket'),\n",
       " Row(userId='10', sessionId=595, page='NextSong', song='sillyworld (Album Version)'),\n",
       " Row(userId='10', sessionId=595, page='Thumbs Up', song=None),\n",
       " Row(userId='10', sessionId=595, page='NextSong', song='Devil To Kill'),\n",
       " Row(userId='10', sessionId=595, page='Add Friend', song=None),\n",
       " Row(userId='10', sessionId=595, page='NextSong', song='Whisper'),\n",
       " Row(userId='10', sessionId=595, page='NextSong', song='Todos Tenemos Un Amor'),\n",
       " Row(userId='10', sessionId=595, page='NextSong', song='Yule Be Sorry'),\n",
       " Row(userId='10', sessionId=595, page='NextSong', song='Son Son'),\n",
       " Row(userId='10', sessionId=595, page='NextSong', song=\"Movin'\"),\n",
       " Row(userId='10', sessionId=595, page='NextSong', song='Found Out About You'),\n",
       " Row(userId='10', sessionId=595, page='NextSong', song='Legacy Of Kings'),\n",
       " Row(userId='10', sessionId=595, page='NextSong', song='Everyone Looks So Good From Here'),\n",
       " Row(userId='10', sessionId=595, page='NextSong', song='War'),\n",
       " Row(userId='10', sessionId=595, page='NextSong', song='Non E_ Per Te_ Per Me'),\n",
       " Row(userId='10', sessionId=595, page='Thumbs Up', song=None),\n",
       " Row(userId='10', sessionId=595, page='NextSong', song='Welcome Home (Sanitarium)'),\n",
       " Row(userId='10', sessionId=595, page='Thumbs Up', song=None),\n",
       " Row(userId='10', sessionId=595, page='NextSong', song='Combat Rock'),\n",
       " Row(userId='10', sessionId=595, page='NextSong', song='Baby M'),\n",
       " Row(userId='10', sessionId=595, page='NextSong', song=\"Mal D'Africa (2004 Digital Remaster)\"),\n",
       " Row(userId='10', sessionId=595, page='NextSong', song='Heroin & Cocaine'),\n",
       " Row(userId='10', sessionId=595, page='NextSong', song='A Little More For Little You'),\n",
       " Row(userId='10', sessionId=595, page='NextSong', song='Epilogue'),\n",
       " Row(userId='10', sessionId=595, page='NextSong', song='Drop The World'),\n",
       " Row(userId='10', sessionId=595, page='NextSong', song='Of Wolf And Man'),\n",
       " Row(userId='10', sessionId=595, page='NextSong', song='Beat Somebody Up'),\n",
       " Row(userId='10', sessionId=595, page='NextSong', song='Pap Smear'),\n",
       " Row(userId='10', sessionId=595, page='NextSong', song='Uh-Oh_ Love Comes To Town (Remastered Album Version )'),\n",
       " Row(userId='10', sessionId=595, page='NextSong', song='Little Bitty Pretty One'),\n",
       " Row(userId='10', sessionId=595, page='Settings', song=None),\n",
       " Row(userId='10', sessionId=595, page='NextSong', song='And Your Bird Can Sing'),\n",
       " Row(userId='10', sessionId=595, page='NextSong', song='Let Me'),\n",
       " Row(userId='10', sessionId=595, page='NextSong', song='Someone Like You'),\n",
       " Row(userId='10', sessionId=595, page='NextSong', song='Sunny Day'),\n",
       " Row(userId='10', sessionId=595, page='Thumbs Up', song=None),\n",
       " Row(userId='10', sessionId=595, page='NextSong', song=\"You're The Voice\"),\n",
       " Row(userId='10', sessionId=595, page='NextSong', song=\"Hey Daddy (Daddy's Home)\"),\n",
       " Row(userId='10', sessionId=595, page='NextSong', song='The Real Slim Shady'),\n",
       " Row(userId='10', sessionId=595, page='NextSong', song='Ebudae'),\n",
       " Row(userId='10', sessionId=595, page='NextSong', song='Amor (Parte I)'),\n",
       " Row(userId='10', sessionId=595, page='NextSong', song='Run Through The Jungle'),\n",
       " Row(userId='10', sessionId=595, page='NextSong', song='Mockingbird'),\n",
       " Row(userId='10', sessionId=595, page='NextSong', song='Boom'),\n",
       " Row(userId='10', sessionId=595, page='NextSong', song='She Loves You'),\n",
       " Row(userId='10', sessionId=595, page='NextSong', song='Brothers & Sisters'),\n",
       " Row(userId='10', sessionId=595, page='NextSong', song='Sexy Love'),\n",
       " Row(userId='10', sessionId=595, page='NextSong', song='Perverse Party'),\n",
       " Row(userId='10', sessionId=595, page='NextSong', song='Happy Up Here'),\n",
       " Row(userId='10', sessionId=595, page='NextSong', song='Love Is Gonna Save Us '),\n",
       " Row(userId='10', sessionId=595, page='NextSong', song='Finally'),\n",
       " Row(userId='10', sessionId=595, page='NextSong', song='Tu Guardian'),\n",
       " Row(userId='10', sessionId=595, page='NextSong', song='Dangerous'),\n",
       " Row(userId='10', sessionId=595, page='NextSong', song='Cosas MÃ\\x83Â\\xadas'),\n",
       " Row(userId='10', sessionId=595, page='NextSong', song='Janie Jones'),\n",
       " Row(userId='10', sessionId=595, page='NextSong', song='Dragula'),\n",
       " Row(userId='10', sessionId=595, page='Settings', song=None),\n",
       " Row(userId='10', sessionId=595, page='NextSong', song='Opposite Of Adults'),\n",
       " Row(userId='10', sessionId=595, page='NextSong', song='On Your Porch (Acoustic)'),\n",
       " Row(userId='10', sessionId=595, page='NextSong', song=\"Sharecropper's Son\"),\n",
       " Row(userId='10', sessionId=595, page='Thumbs Up', song=None),\n",
       " Row(userId='10', sessionId=595, page='NextSong', song='Live And Let Die'),\n",
       " Row(userId='10', sessionId=595, page='NextSong', song='How Death Comes'),\n",
       " Row(userId='10', sessionId=595, page='NextSong', song='Jambalaya'),\n",
       " Row(userId='10', sessionId=595, page='NextSong', song='Horn Concerto No. 4 in E flat K495: II. Romance (Andante cantabile)'),\n",
       " Row(userId='10', sessionId=595, page='Downgrade', song=None),\n",
       " Row(userId='10', sessionId=595, page='NextSong', song='John Wayne (1995)'),\n",
       " Row(userId='10', sessionId=595, page='Thumbs Up', song=None),\n",
       " Row(userId='10', sessionId=595, page='NextSong', song='No te apartes de mi (Version Acustica)'),\n",
       " Row(userId='10', sessionId=595, page='NextSong', song='Forever'),\n",
       " Row(userId='10', sessionId=595, page='NextSong', song='The Sun Also Sets'),\n",
       " Row(userId='10', sessionId=595, page='NextSong', song='Lights On'),\n",
       " Row(userId='10', sessionId=595, page='NextSong', song='Walkabout'),\n",
       " Row(userId='10', sessionId=595, page='NextSong', song=\"Nothin' On You [feat. Bruno Mars] (Album Version)\"),\n",
       " Row(userId='10', sessionId=595, page='Add to Playlist', song=None),\n",
       " Row(userId='10', sessionId=595, page='NextSong', song=\"Let's All Get Drunk\"),\n",
       " Row(userId='10', sessionId=595, page='NextSong', song='Bros Sto Rimagmeno Spiti (2003 Digital Remaster)'),\n",
       " Row(userId='10', sessionId=595, page='NextSong', song='A Nightmare To Remember (Album Version)'),\n",
       " Row(userId='10', sessionId=595, page='NextSong', song='SinceritÃ\\x83Â© Et Jalousie'),\n",
       " Row(userId='10', sessionId=595, page='NextSong', song='Luvstruck'),\n",
       " Row(userId='10', sessionId=595, page='NextSong', song='Clint Eastwood'),\n",
       " Row(userId='10', sessionId=595, page='NextSong', song='Marigold (LP Version)'),\n",
       " Row(userId='10', sessionId=595, page='NextSong', song='Friends of Science'),\n",
       " Row(userId='10', sessionId=595, page='NextSong', song='Last Nite'),\n",
       " Row(userId='10', sessionId=595, page='NextSong', song='Let My Love Open The Door'),\n",
       " Row(userId='10', sessionId=595, page='NextSong', song=\"Ain't Talkin'  'Bout Love (Remastered Version)\"),\n",
       " Row(userId='10', sessionId=595, page='NextSong', song='Nobody (Featuring Athena Cage) (LP Version)'),\n",
       " Row(userId='10', sessionId=595, page='NextSong', song='Overture'),\n",
       " Row(userId='10', sessionId=595, page='NextSong', song='Bad Entropy'),\n",
       " Row(userId='10', sessionId=595, page='NextSong', song='Space Dementia'),\n",
       " Row(userId='10', sessionId=595, page='NextSong', song='Lay Your Head Down'),\n",
       " Row(userId='10', sessionId=595, page='NextSong', song='Come Back Margaret'),\n",
       " Row(userId='10', sessionId=595, page='NextSong', song='Gloomy'),\n",
       " Row(userId='10', sessionId=595, page='NextSong', song='Sandstorm'),\n",
       " Row(userId='10', sessionId=595, page='NextSong', song='Beautiful'),\n",
       " Row(userId='10', sessionId=595, page='NextSong', song='Hey There Delilah'),\n",
       " Row(userId='10', sessionId=595, page='NextSong', song='Shake A Tail Feather'),\n",
       " Row(userId='10', sessionId=595, page='Logout', song=None),\n",
       " Row(userId='10', sessionId=595, page='Home', song=None),\n",
       " Row(userId='10', sessionId=595, page='NextSong', song='What Happens At The Party'),\n",
       " Row(userId='10', sessionId=595, page='NextSong', song='Personal Jesus'),\n",
       " Row(userId='10', sessionId=595, page='NextSong', song=\"Wolfgang's 5th Symphony (Radio Edit)\"),\n",
       " Row(userId='10', sessionId=595, page='NextSong', song='Polk Salad Annie (Album Version)'),\n",
       " Row(userId='10', sessionId=595, page='NextSong', song='Searching'),\n",
       " Row(userId='10', sessionId=595, page='NextSong', song='Teach Me How To Dougie'),\n",
       " Row(userId='10', sessionId=595, page='NextSong', song='Supermassive Black Hole (Twilight Soundtrack Version)'),\n",
       " Row(userId='10', sessionId=595, page='NextSong', song='Make Luv (Radio Edit) (Feat. Oliver Cheatham)'),\n",
       " Row(userId='10', sessionId=595, page='Home', song=None),\n",
       " Row(userId='10', sessionId=595, page='NextSong', song='Gotta Get Over (Taking Loot) (Explicit)'),\n",
       " Row(userId='10', sessionId=595, page='NextSong', song='California'),\n",
       " Row(userId='10', sessionId=595, page='NextSong', song='Bloody Well Right'),\n",
       " Row(userId='10', sessionId=595, page='NextSong', song='Please Send Me Someone To Love'),\n",
       " Row(userId='10', sessionId=595, page='NextSong', song='One By One'),\n",
       " Row(userId='10', sessionId=595, page='NextSong', song='Outshined'),\n",
       " Row(userId='10', sessionId=595, page='NextSong', song=\"Doesn't Remind Me\"),\n",
       " Row(userId='10', sessionId=595, page='Thumbs Down', song=None),\n",
       " Row(userId='10', sessionId=595, page='NextSong', song='Mercury Tears'),\n",
       " Row(userId='10', sessionId=595, page='NextSong', song='Segredo'),\n",
       " Row(userId='10', sessionId=595, page='Home', song=None),\n",
       " Row(userId='10', sessionId=595, page='NextSong', song='Alive (2006 Remastered Album Version)'),\n",
       " Row(userId='10', sessionId=595, page='NextSong', song='Make Her Say'),\n",
       " Row(userId='10', sessionId=595, page='NextSong', song='Revelry'),\n",
       " Row(userId='10', sessionId=595, page='Thumbs Up', song=None),\n",
       " Row(userId='10', sessionId=595, page='NextSong', song='Long Distance Runner (Straight On Album Version)'),\n",
       " Row(userId='10', sessionId=595, page='NextSong', song='Sayonara-Nostalgia'),\n",
       " Row(userId='10', sessionId=595, page='NextSong', song='Submarine'),\n",
       " Row(userId='10', sessionId=595, page='NextSong', song='Unchanging Story'),\n",
       " Row(userId='10', sessionId=595, page='NextSong', song='Behind The Sea [Live In Chicago]'),\n",
       " Row(userId='10', sessionId=595, page='NextSong', song='Year of the Suckerpunch'),\n",
       " Row(userId='10', sessionId=595, page='NextSong', song='Michael Jackson'),\n",
       " Row(userId='10', sessionId=595, page='NextSong', song='Are You In?'),\n",
       " Row(userId='10', sessionId=595, page='NextSong', song='Dream Catch Me'),\n",
       " Row(userId='10', sessionId=595, page='NextSong', song='Beautiful One'),\n",
       " Row(userId='10', sessionId=595, page='Home', song=None),\n",
       " Row(userId='10', sessionId=595, page='NextSong', song='Infinity'),\n",
       " Row(userId='10', sessionId=595, page='NextSong', song='Atrevido'),\n",
       " Row(userId='10', sessionId=595, page='NextSong', song='White Sky'),\n",
       " Row(userId='10', sessionId=595, page='NextSong', song='Disco 2000'),\n",
       " Row(userId='10', sessionId=595, page='NextSong', song='Amerika (Album Version)'),\n",
       " Row(userId='10', sessionId=595, page='NextSong', song='There For You'),\n",
       " Row(userId='10', sessionId=595, page='Thumbs Up', song=None),\n",
       " Row(userId='10', sessionId=595, page='NextSong', song='Almaz'),\n",
       " Row(userId='10', sessionId=595, page='NextSong', song='The Way Home'),\n",
       " Row(userId='10', sessionId=595, page='Thumbs Up', song=None),\n",
       " Row(userId='10', sessionId=595, page='NextSong', song='Better Man'),\n",
       " Row(userId='10', sessionId=595, page='NextSong', song='Casablanca (Album Version)'),\n",
       " Row(userId='10', sessionId=595, page='NextSong', song='Oxford Comma (Album)'),\n",
       " Row(userId='10', sessionId=595, page='NextSong', song='Song For Bob'),\n",
       " Row(userId='10', sessionId=595, page='NextSong', song='When We Murdered the World on the Fourteenth of May'),\n",
       " Row(userId='10', sessionId=595, page='NextSong', song='Dy-Na-Mi-Tee'),\n",
       " Row(userId='10', sessionId=595, page='NextSong', song='Algo Con-Sentido'),\n",
       " Row(userId='10', sessionId=595, page='NextSong', song=\"We Can't Pretend\"),\n",
       " Row(userId='10', sessionId=595, page='NextSong', song=\"Don't Stop The Music\"),\n",
       " Row(userId='10', sessionId=595, page='Thumbs Up', song=None),\n",
       " Row(userId='10', sessionId=595, page='NextSong', song='Frases Mudas'),\n",
       " Row(userId='10', sessionId=595, page='NextSong', song='Undo'),\n",
       " Row(userId='10', sessionId=595, page='NextSong', song='Dreamgirl'),\n",
       " Row(userId='10', sessionId=595, page='Add to Playlist', song=None),\n",
       " Row(userId='10', sessionId=595, page='NextSong', song='Unbreakable'),\n",
       " Row(userId='10', sessionId=595, page='NextSong', song='Guantanamera'),\n",
       " Row(userId='10', sessionId=595, page='NextSong', song='Video Girl'),\n",
       " Row(userId='10', sessionId=595, page='Add Friend', song=None),\n",
       " Row(userId='10', sessionId=595, page='Add Friend', song=None),\n",
       " Row(userId='10', sessionId=595, page='Logout', song=None),\n",
       " Row(userId='10', sessionId=595, page='Home', song=None),\n",
       " Row(userId='10', sessionId=595, page='NextSong', song='Raised By The Tide'),\n",
       " Row(userId='10', sessionId=595, page='NextSong', song='M'),\n",
       " Row(userId='10', sessionId=595, page='NextSong', song='If I Had You'),\n",
       " Row(userId='10', sessionId=595, page='NextSong', song='Crazy Little Thing Called Love (Album Version)'),\n",
       " Row(userId='10', sessionId=595, page='NextSong', song='Johnny Was'),\n",
       " Row(userId='10', sessionId=595, page='Thumbs Up', song=None),\n",
       " Row(userId='10', sessionId=595, page='NextSong', song='Take Everything In'),\n",
       " Row(userId='10', sessionId=595, page='NextSong', song='San Francisco'),\n",
       " Row(userId='10', sessionId=595, page='NextSong', song='Te Invito'),\n",
       " Row(userId='10', sessionId=595, page='Home', song=None),\n",
       " Row(userId='10', sessionId=595, page='NextSong', song='Bitch'),\n",
       " Row(userId='10', sessionId=595, page='Thumbs Up', song=None),\n",
       " Row(userId='10', sessionId=595, page='NextSong', song='Mohawk Town'),\n",
       " Row(userId='10', sessionId=595, page='NextSong', song='Heart Of Steel (LP Version)'),\n",
       " Row(userId='10', sessionId=595, page='NextSong', song='Best Friend'),\n",
       " Row(userId='10', sessionId=595, page='NextSong', song='Radar Love'),\n",
       " Row(userId='10', sessionId=595, page='NextSong', song='Kryptonite'),\n",
       " Row(userId='10', sessionId=595, page='NextSong', song='Should Have Told You'),\n",
       " Row(userId='10', sessionId=595, page='About', song=None),\n",
       " Row(userId='10', sessionId=595, page='NextSong', song='Words'),\n",
       " Row(userId='10', sessionId=595, page='NextSong', song='Wake Up'),\n",
       " Row(userId='10', sessionId=595, page='NextSong', song='Baobabs (Bonus Album Version)'),\n",
       " Row(userId='10', sessionId=595, page='NextSong', song='Rumours'),\n",
       " Row(userId='10', sessionId=595, page='NextSong', song='Think'),\n",
       " Row(userId='10', sessionId=595, page='Home', song=None),\n",
       " Row(userId='10', sessionId=595, page='NextSong', song=\"White Devil's Dream\"),\n",
       " Row(userId='10', sessionId=595, page='NextSong', song='Lurgee'),\n",
       " Row(userId='10', sessionId=595, page='NextSong', song='Last Day Of Our Love'),\n",
       " Row(userId='10', sessionId=595, page='NextSong', song='Tied Together With A Smile'),\n",
       " Row(userId='10', sessionId=595, page='NextSong', song='Vzpominky IV.'),\n",
       " Row(userId='10', sessionId=595, page='NextSong', song='Coast 2 Coast'),\n",
       " Row(userId='10', sessionId=595, page='NextSong', song='My Own Country (Album Version)'),\n",
       " Row(userId='10', sessionId=595, page='NextSong', song='Last Of Days'),\n",
       " Row(userId='10', sessionId=595, page='NextSong', song='Jingle Bells'),\n",
       " Row(userId='10', sessionId=595, page='NextSong', song='St. Elmos Fire ( Man In Motion ) ( LP Version )'),\n",
       " Row(userId='10', sessionId=595, page='NextSong', song='El duelo'),\n",
       " Row(userId='10', sessionId=595, page='NextSong', song='Warning Sign'),\n",
       " Row(userId='10', sessionId=595, page='NextSong', song='On And On'),\n",
       " Row(userId='10', sessionId=595, page='NextSong', song='Lilacs'),\n",
       " Row(userId='10', sessionId=595, page='NextSong', song='Corn On the Cob'),\n",
       " Row(userId='10', sessionId=595, page='NextSong', song='Faden'),\n",
       " Row(userId='10', sessionId=595, page='Thumbs Down', song=None),\n",
       " Row(userId='10', sessionId=595, page='NextSong', song='CMYK'),\n",
       " Row(userId='10', sessionId=595, page='NextSong', song='Transparency'),\n",
       " Row(userId='10', sessionId=595, page='NextSong', song='Attention (Album Version)'),\n",
       " Row(userId='10', sessionId=595, page='Settings', song=None),\n",
       " Row(userId='10', sessionId=595, page='About', song=None),\n",
       " Row(userId='10', sessionId=1047, page='Home', song=None),\n",
       " Row(userId='10', sessionId=1047, page='Add Friend', song=None),\n",
       " Row(userId='10', sessionId=1047, page='NextSong', song=\"God's Snake\"),\n",
       " Row(userId='10', sessionId=1047, page='NextSong', song='Pistol Pistol'),\n",
       " Row(userId='10', sessionId=1047, page='NextSong', song='Wake Up Alone'),\n",
       " Row(userId='10', sessionId=1047, page='NextSong', song='Diary'),\n",
       " Row(userId='10', sessionId=1047, page='NextSong', song='Pursuit Of Happiness (nightmare)'),\n",
       " Row(userId='10', sessionId=1047, page='NextSong', song='Ã\\x83Â\\x89poca'),\n",
       " Row(userId='10', sessionId=1047, page='NextSong', song='Hello From The Gutter (LP Version)'),\n",
       " Row(userId='10', sessionId=1047, page='Thumbs Up', song=None),\n",
       " Row(userId='10', sessionId=1047, page='NextSong', song='How You Remind Me'),\n",
       " Row(userId='10', sessionId=1047, page='NextSong', song='The Unforgiven III'),\n",
       " Row(userId='10', sessionId=1047, page='NextSong', song='Buffalo Bill'),\n",
       " Row(userId='10', sessionId=1047, page='NextSong', song='All My Friends'),\n",
       " Row(userId='10', sessionId=1047, page='NextSong', song='Masturbation (LP Version)'),\n",
       " Row(userId='10', sessionId=1047, page='NextSong', song='Alejandro'),\n",
       " Row(userId='10', sessionId=1047, page='NextSong', song='Bonus Track'),\n",
       " Row(userId='10', sessionId=1047, page='NextSong', song='Clocks'),\n",
       " Row(userId='10', sessionId=1047, page='NextSong', song='Cuento Adolescente'),\n",
       " Row(userId='10', sessionId=1047, page='NextSong', song='Strange Desire'),\n",
       " Row(userId='10', sessionId=1047, page='NextSong', song='Violent Kiss'),\n",
       " Row(userId='10', sessionId=1047, page='NextSong', song='Welcome To Bangkok'),\n",
       " Row(userId='10', sessionId=1047, page='NextSong', song='Dick In A Box'),\n",
       " Row(userId='10', sessionId=1047, page='NextSong', song='Chevrolet'),\n",
       " Row(userId='10', sessionId=1047, page='Thumbs Up', song=None),\n",
       " Row(userId='10', sessionId=1414, page='NextSong', song='Judy In Disguise'),\n",
       " Row(userId='10', sessionId=1414, page='NextSong', song='Irreplaceable'),\n",
       " Row(userId='10', sessionId=1414, page='NextSong', song='I Want You'),\n",
       " Row(userId='10', sessionId=1414, page='NextSong', song=\"Bruno's Torso\"),\n",
       " Row(userId='10', sessionId=1414, page='NextSong', song='Codzienne Umiera Chystus W Nas / Juz poza smiercia'),\n",
       " Row(userId='10', sessionId=1414, page='Thumbs Up', song=None),\n",
       " Row(userId='10', sessionId=1414, page='NextSong', song='For The Last Time'),\n",
       " Row(userId='10', sessionId=1414, page='NextSong', song='Taste In Men'),\n",
       " Row(userId='10', sessionId=1414, page='NextSong', song='Sinisten tÃ\\x83Â¤htien alla'),\n",
       " Row(userId='10', sessionId=1414, page='NextSong', song=\"Don't Stop\"),\n",
       " Row(userId='10', sessionId=1414, page='NextSong', song='11 Y 6'),\n",
       " Row(userId='10', sessionId=1414, page='NextSong', song='Show Me How To Live'),\n",
       " Row(userId='10', sessionId=1414, page='NextSong', song='Spirits In The Material World'),\n",
       " Row(userId='10', sessionId=1414, page='NextSong', song='Papa Noah (2004)'),\n",
       " Row(userId='10', sessionId=1414, page='Help', song=None),\n",
       " Row(userId='10', sessionId=1414, page='NextSong', song='Fistful Of Steel'),\n",
       " Row(userId='10', sessionId=1414, page='NextSong', song=\"You're The One\"),\n",
       " Row(userId='10', sessionId=1414, page='NextSong', song='Hell Breaks Loose'),\n",
       " Row(userId='10', sessionId=1414, page='Downgrade', song=None),\n",
       " Row(userId='10', sessionId=1414, page='Logout', song=None),\n",
       " Row(userId='10', sessionId=1414, page='Home', song=None),\n",
       " Row(userId='10', sessionId=1414, page='NextSong', song='Per Te (Album Version)'),\n",
       " Row(userId='10', sessionId=1414, page='NextSong', song='California'),\n",
       " Row(userId='10', sessionId=1414, page='NextSong', song='In My Place'),\n",
       " Row(userId='10', sessionId=1414, page='NextSong', song='Fireflies'),\n",
       " Row(userId='10', sessionId=1414, page='NextSong', song='Margaret (LP Version)'),\n",
       " Row(userId='10', sessionId=1414, page='NextSong', song='Imagination'),\n",
       " Row(userId='10', sessionId=1414, page='NextSong', song='Go To Sleep'),\n",
       " Row(userId='10', sessionId=1414, page='NextSong', song='Pursuit Of Happiness (nightmare)'),\n",
       " Row(userId='10', sessionId=1414, page='NextSong', song='Wake Up Call'),\n",
       " Row(userId='10', sessionId=1414, page='Thumbs Up', song=None),\n",
       " Row(userId='10', sessionId=1414, page='NextSong', song='Ocean Size (Album Version)'),\n",
       " Row(userId='10', sessionId=1414, page='NextSong', song='Weather To Fly'),\n",
       " Row(userId='10', sessionId=1414, page='NextSong', song='Space Travel'),\n",
       " Row(userId='10', sessionId=1414, page='NextSong', song='Jumping All Over The World'),\n",
       " Row(userId='10', sessionId=1414, page='Thumbs Up', song=None),\n",
       " Row(userId='10', sessionId=1414, page='NextSong', song='Scared Of Lonely'),\n",
       " Row(userId='10', sessionId=1414, page='NextSong', song='Hey There Delilah'),\n",
       " Row(userId='10', sessionId=1414, page='NextSong', song=\"Dreamin'\"),\n",
       " Row(userId='10', sessionId=1414, page='NextSong', song='Depending On You'),\n",
       " Row(userId='10', sessionId=1414, page='NextSong', song='The Food'),\n",
       " Row(userId='10', sessionId=1414, page='NextSong', song=\"Molly's Chambers\"),\n",
       " Row(userId='10', sessionId=1414, page='NextSong', song='Smile Jamaica'),\n",
       " Row(userId='10', sessionId=1414, page='Thumbs Up', song=None),\n",
       " Row(userId='10', sessionId=1414, page='NextSong', song='Love So Right'),\n",
       " Row(userId='10', sessionId=1414, page='NextSong', song='On A Lonely Night (Album Version)'),\n",
       " Row(userId='10', sessionId=1414, page='NextSong', song=\"You're The One\"),\n",
       " Row(userId='10', sessionId=1414, page='NextSong', song='Have You Heard The News'),\n",
       " Row(userId='10', sessionId=1414, page='NextSong', song='Be Aware'),\n",
       " Row(userId='10', sessionId=1414, page='NextSong', song='Freedom'),\n",
       " Row(userId='10', sessionId=1414, page='NextSong', song='Dr. Shavargo Pt. 3'),\n",
       " Row(userId='10', sessionId=1414, page='NextSong', song='The Real Slim Shady'),\n",
       " Row(userId='10', sessionId=1414, page='NextSong', song='The Fool On The Hill'),\n",
       " Row(userId='10', sessionId=1414, page='NextSong', song='Happy (Original Radio Edit)'),\n",
       " Row(userId='10', sessionId=1414, page='NextSong', song='Non E_ Per Te_ Per Me'),\n",
       " Row(userId='10', sessionId=1414, page='NextSong', song='Rainbow Serpent'),\n",
       " Row(userId='10', sessionId=1414, page='NextSong', song='Homecoming (album)'),\n",
       " Row(userId='10', sessionId=1414, page='Add Friend', song=None),\n",
       " Row(userId='10', sessionId=1414, page='NextSong', song='Love Is All Around'),\n",
       " Row(userId='10', sessionId=1414, page='NextSong', song='PDA (E.P Version)'),\n",
       " Row(userId='10', sessionId=1414, page='NextSong', song='West One (Shine On Me)'),\n",
       " Row(userId='10', sessionId=1414, page='NextSong', song='One Life Stand'),\n",
       " Row(userId='10', sessionId=1414, page='Thumbs Up', song=None),\n",
       " Row(userId='10', sessionId=1414, page='NextSong', song='Who Can Compare'),\n",
       " Row(userId='10', sessionId=1414, page='NextSong', song='Step Into My Office_ Baby'),\n",
       " Row(userId='10', sessionId=1414, page='NextSong', song='Three'),\n",
       " Row(userId='10', sessionId=1414, page='NextSong', song='If I Never See Your Face Again'),\n",
       " Row(userId='10', sessionId=1414, page='NextSong', song='Without Me'),\n",
       " Row(userId='10', sessionId=1414, page='NextSong', song='Songs Of The Season'),\n",
       " Row(userId='10', sessionId=1414, page='NextSong', song='Make Her Say'),\n",
       " Row(userId='10', sessionId=1414, page='NextSong', song='Gospel Train'),\n",
       " Row(userId='10', sessionId=1414, page='NextSong', song='Real Life'),\n",
       " Row(userId='10', sessionId=1414, page='NextSong', song='Horn Concerto No. 4 in E flat K495: II. Romance (Andante cantabile)'),\n",
       " Row(userId='10', sessionId=1414, page='Logout', song=None),\n",
       " Row(userId='10', sessionId=1414, page='Home', song=None),\n",
       " Row(userId='10', sessionId=1414, page='Settings', song=None),\n",
       " Row(userId='10', sessionId=1414, page='Save Settings', song=None),\n",
       " Row(userId='10', sessionId=1414, page='Home', song=None),\n",
       " Row(userId='10', sessionId=1592, page='NextSong', song='Cry'),\n",
       " Row(userId='10', sessionId=1592, page='NextSong', song=\"Holdin' On Together\"),\n",
       " Row(userId='10', sessionId=1592, page='NextSong', song='Make Her Say'),\n",
       " Row(userId='10', sessionId=1592, page='NextSong', song='Wind It Up (Remastered)'),\n",
       " Row(userId='10', sessionId=1592, page='NextSong', song='Weak'),\n",
       " Row(userId='10', sessionId=1592, page='NextSong', song='The Gift'),\n",
       " Row(userId='10', sessionId=1592, page='NextSong', song='You Can Do It (Explicit) (Feat. Mack 10 And Ms Toi)'),\n",
       " Row(userId='10', sessionId=1592, page='NextSong', song='Thinking Of You'),\n",
       " Row(userId='10', sessionId=1592, page='NextSong', song='Igloo'),\n",
       " Row(userId='10', sessionId=1592, page='Add Friend', song=None),\n",
       " Row(userId='10', sessionId=1592, page='NextSong', song='Cien Gaviotas'),\n",
       " Row(userId='10', sessionId=1592, page='NextSong', song='Muhammad Ali'),\n",
       " Row(userId='10', sessionId=1592, page='NextSong', song='Y Nos Dieron Las Diez'),\n",
       " Row(userId='10', sessionId=1592, page='NextSong', song='Dreamer'),\n",
       " Row(userId='10', sessionId=1592, page='NextSong', song='Turn The Radio Off (Live)'),\n",
       " Row(userId='10', sessionId=1592, page='NextSong', song='My Little Drum'),\n",
       " Row(userId='10', sessionId=1592, page='Logout', song=None),\n",
       " Row(userId='10', sessionId=1592, page='Home', song=None),\n",
       " Row(userId='10', sessionId=1592, page='NextSong', song='Good Life'),\n",
       " Row(userId='10', sessionId=1592, page='NextSong', song='5.45'),\n",
       " Row(userId='10', sessionId=1592, page='Roll Advert', song=None),\n",
       " Row(userId='10', sessionId=1592, page='NextSong', song='Love Story'),\n",
       " Row(userId='10', sessionId=1592, page='NextSong', song='Zak And Sara'),\n",
       " Row(userId='10', sessionId=1592, page='NextSong', song='Life Less Frightening'),\n",
       " Row(userId='10', sessionId=1592, page='NextSong', song='Lazy Eye [Jason Bentley Remix]'),\n",
       " Row(userId='10', sessionId=1592, page='NextSong', song='Olvidela Compa'),\n",
       " Row(userId='10', sessionId=1592, page='NextSong', song='Machine Kit'),\n",
       " Row(userId='10', sessionId=1592, page='NextSong', song='Clean Your Own Tables'),\n",
       " Row(userId='10', sessionId=1592, page='NextSong', song='Crazy'),\n",
       " Row(userId='10', sessionId=1592, page='NextSong', song='El Tiempo Dira'),\n",
       " Row(userId='10', sessionId=1592, page='NextSong', song='Jardin'),\n",
       " Row(userId='10', sessionId=1592, page='NextSong', song='Overrated'),\n",
       " Row(userId='10', sessionId=1592, page='NextSong', song='RenholdÃ\\x83Â«r'),\n",
       " Row(userId='10', sessionId=1592, page='NextSong', song='Luv Is A Verb'),\n",
       " Row(userId='10', sessionId=1592, page='NextSong', song='Inviral Love'),\n",
       " Row(userId='10', sessionId=1592, page='NextSong', song='Lo Que Nos Mata'),\n",
       " Row(userId='10', sessionId=1592, page='Logout', song=None),\n",
       " Row(userId='10', sessionId=1592, page='Home', song=None),\n",
       " Row(userId='10', sessionId=1592, page='NextSong', song='We Wish You A Merry Christmas (1999 Digital Remaster)'),\n",
       " Row(userId='10', sessionId=1592, page='NextSong', song='Bodies'),\n",
       " Row(userId='10', sessionId=1592, page='NextSong', song='El baile y el salÃ\\x83Â³n'),\n",
       " Row(userId='10', sessionId=1592, page='NextSong', song='What Makes A Man'),\n",
       " Row(userId='10', sessionId=1592, page='NextSong', song='Swing Javanaise'),\n",
       " Row(userId='10', sessionId=1592, page='NextSong', song='Yellow'),\n",
       " Row(userId='10', sessionId=1592, page='Home', song=None),\n",
       " Row(userId='10', sessionId=1592, page='NextSong', song='Dominator'),\n",
       " Row(userId='10', sessionId=1592, page='NextSong', song='Hell Breaks Loose'),\n",
       " Row(userId='10', sessionId=1592, page='NextSong', song='Pearls'),\n",
       " Row(userId='10', sessionId=1592, page='NextSong', song='A Message'),\n",
       " Row(userId='10', sessionId=1592, page='NextSong', song='The Lightning Strike'),\n",
       " Row(userId='10', sessionId=1592, page='NextSong', song='You And I (Album Version)'),\n",
       " Row(userId='10', sessionId=1592, page='NextSong', song='83'),\n",
       " Row(userId='10', sessionId=1592, page='NextSong', song='Twilo Thunder'),\n",
       " Row(userId='10', sessionId=1592, page='NextSong', song='Move Along'),\n",
       " Row(userId='10', sessionId=1592, page='Home', song=None),\n",
       " Row(userId='10', sessionId=1592, page='NextSong', song='Back Against The Wall'),\n",
       " Row(userId='10', sessionId=1592, page='NextSong', song='Everlong'),\n",
       " Row(userId='10', sessionId=1592, page='NextSong', song='Only The Moment (All The Time In The World Mix)'),\n",
       " Row(userId='10', sessionId=1592, page='NextSong', song='Light Years Away (Album Version)'),\n",
       " Row(userId='10', sessionId=1592, page='NextSong', song='Starstruck'),\n",
       " Row(userId='10', sessionId=1592, page='NextSong', song='Kingdom Of Come (Album)'),\n",
       " Row(userId='10', sessionId=1592, page='NextSong', song='Overboard'),\n",
       " Row(userId='10', sessionId=1592, page='NextSong', song='Ghost of a Rose (re recorded new version)'),\n",
       " Row(userId='10', sessionId=1592, page='NextSong', song='Change'),\n",
       " Row(userId='10', sessionId=1592, page='Thumbs Up', song=None),\n",
       " Row(userId='10', sessionId=1592, page='NextSong', song=\"Who's Real\"),\n",
       " Row(userId='10', sessionId=1592, page='NextSong', song='Better To Reign In Hell'),\n",
       " Row(userId='10', sessionId=1592, page='NextSong', song='Unspoken'),\n",
       " Row(userId='10', sessionId=1592, page='NextSong', song='People Are Crazy'),\n",
       " Row(userId='10', sessionId=1592, page='NextSong', song=\"You Don't Know Me (featuring Regina Spektor)\"),\n",
       " Row(userId='10', sessionId=1592, page='NextSong', song='Make Love To Your Mind'),\n",
       " Row(userId='10', sessionId=1592, page='NextSong', song='Back 2 Good (LP Version)'),\n",
       " Row(userId='10', sessionId=1592, page='NextSong', song='Days End'),\n",
       " Row(userId='10', sessionId=1592, page='NextSong', song='Nan Ni Wan'),\n",
       " Row(userId='10', sessionId=1592, page='NextSong', song='SeÃ\\x83Â±orita'),\n",
       " Row(userId='10', sessionId=1592, page='NextSong', song='The Gift'),\n",
       " Row(userId='10', sessionId=1592, page='Downgrade', song=None),\n",
       " Row(userId='10', sessionId=1592, page='Downgrade', song=None),\n",
       " Row(userId='10', sessionId=1981, page='NextSong', song='Save A Horse [Ride A Cowboy] (Album Version)'),\n",
       " Row(userId='10', sessionId=1981, page='NextSong', song='Alice'),\n",
       " Row(userId='10', sessionId=1981, page='NextSong', song=\"I'm In Miami Bitch\"),\n",
       " Row(userId='10', sessionId=1981, page='NextSong', song='Talk To Me_ Dance With Me'),\n",
       " Row(userId='10', sessionId=1981, page='NextSong', song='Murder In The Graveyard'),\n",
       " Row(userId='10', sessionId=1981, page='NextSong', song='A Beggar On A Beach Of Gold'),\n",
       " Row(userId='10', sessionId=1981, page='NextSong', song='The Other Side'),\n",
       " Row(userId='10', sessionId=1981, page='NextSong', song='Make Love To Your Mind'),\n",
       " Row(userId='10', sessionId=1981, page='NextSong', song='Signals Over The Air'),\n",
       " Row(userId='10', sessionId=1981, page='NextSong', song='Too Much Love Will Kill You'),\n",
       " Row(userId='10', sessionId=1981, page='NextSong', song='Youth Against Fascism'),\n",
       " Row(userId='10', sessionId=1981, page='NextSong', song=\"Nothin' On You [feat. Bruno Mars] (Album Version)\"),\n",
       " Row(userId='10', sessionId=1981, page='NextSong', song='Woo boost'),\n",
       " Row(userId='10', sessionId=1981, page='NextSong', song='Anthem For The Year 2000'),\n",
       " Row(userId='10', sessionId=1981, page='NextSong', song='Undercover Martyn'),\n",
       " Row(userId='10', sessionId=1981, page='NextSong', song='Right Here'),\n",
       " Row(userId='10', sessionId=1981, page='NextSong', song='Synchronicity II'),\n",
       " Row(userId='10', sessionId=1981, page='NextSong', song='Red Baron'),\n",
       " Row(userId='10', sessionId=1981, page='NextSong', song='Why You Wanna (Amended Album Version)'),\n",
       " Row(userId='10', sessionId=1981, page='NextSong', song='Vulnerable'),\n",
       " Row(userId='10', sessionId=1981, page='NextSong', song='Move On Up (Extended LP Version)'),\n",
       " Row(userId='10', sessionId=1981, page='NextSong', song=\"Street Walkin'\"),\n",
       " Row(userId='10', sessionId=1981, page='NextSong', song='Make It Wit Chu'),\n",
       " Row(userId='10', sessionId=1981, page='NextSong', song='Hiding'),\n",
       " Row(userId='10', sessionId=1981, page='Logout', song=None),\n",
       " Row(userId='10', sessionId=1981, page='Home', song=None),\n",
       " Row(userId='10', sessionId=1981, page='NextSong', song='State of Emergency'),\n",
       " Row(userId='10', sessionId=1981, page='NextSong', song='Looking At The World Through A Windshield'),\n",
       " Row(userId='10', sessionId=1981, page='NextSong', song='My December'),\n",
       " Row(userId='10', sessionId=1981, page='NextSong', song='Tighten Up'),\n",
       " Row(userId='10', sessionId=1981, page='NextSong', song='Sin Trabajar'),\n",
       " Row(userId='10', sessionId=1981, page='NextSong', song='Oh Yeah!'),\n",
       " Row(userId='10', sessionId=1981, page='NextSong', song='Hungry'),\n",
       " Row(userId='10', sessionId=1981, page='NextSong', song='1865 (96Ã\\x82Âº In The Shade)'),\n",
       " Row(userId='10', sessionId=1981, page='NextSong', song='Mr. Brownstone'),\n",
       " Row(userId='10', sessionId=1981, page='NextSong', song='If I Could Have You Back'),\n",
       " Row(userId='10', sessionId=1981, page='NextSong', song='Song For No One'),\n",
       " Row(userId='10', sessionId=1981, page='NextSong', song='Leave Before The Lights Come On'),\n",
       " Row(userId='10', sessionId=1981, page='NextSong', song='All My Friends'),\n",
       " Row(userId='10', sessionId=1981, page='Settings', song=None),\n",
       " Row(userId='10', sessionId=1981, page='NextSong', song='Mal Por Mal'),\n",
       " Row(userId='10', sessionId=1981, page='NextSong', song=\"Crockett's Theme\"),\n",
       " Row(userId='10', sessionId=1981, page='NextSong', song='Megan (Acoustic Version)'),\n",
       " Row(userId='10', sessionId=1981, page='NextSong', song='Ella Adivino'),\n",
       " Row(userId='10', sessionId=1981, page='NextSong', song='Miss Murder'),\n",
       " Row(userId='10', sessionId=1981, page='NextSong', song='Shout'),\n",
       " Row(userId='10', sessionId=1981, page='Thumbs Up', song=None),\n",
       " Row(userId='10', sessionId=1981, page='NextSong', song='New York City Cops'),\n",
       " Row(userId='10', sessionId=1981, page='NextSong', song='I Want Tomorrow'),\n",
       " Row(userId='10', sessionId=1981, page='NextSong', song='Poison'),\n",
       " Row(userId='10', sessionId=1981, page='NextSong', song='Hedonism - Just Because You Feel Good'),\n",
       " Row(userId='10', sessionId=1981, page='NextSong', song='Colors'),\n",
       " Row(userId='10', sessionId=1981, page='NextSong', song='Famse'),\n",
       " Row(userId='10', sessionId=1981, page='NextSong', song='HeysÃ\\x83Â¡tan'),\n",
       " Row(userId='10', sessionId=1981, page='NextSong', song='Untitled'),\n",
       " Row(userId='10', sessionId=1981, page='NextSong', song='Playground Love'),\n",
       " Row(userId='10', sessionId=1981, page='NextSong', song=\"A Tribute to Peador O'Donnell/Monkey Let The Hogs Out\"),\n",
       " Row(userId='10', sessionId=1981, page='NextSong', song='Horn Concerto No. 4 in E flat K495: II. Romance (Andante cantabile)'),\n",
       " Row(userId='10', sessionId=1981, page='NextSong', song='No Lo Ves'),\n",
       " Row(userId='10', sessionId=1981, page='Add Friend', song=None),\n",
       " Row(userId='10', sessionId=1981, page='NextSong', song='Bring On The Comets'),\n",
       " Row(userId='10', sessionId=1981, page='NextSong', song='Crack A Bottle'),\n",
       " Row(userId='10', sessionId=1981, page='NextSong', song='All At Once'),\n",
       " Row(userId='10', sessionId=1981, page='NextSong', song='Revelry'),\n",
       " Row(userId='10', sessionId=1981, page='NextSong', song=\"She Couldn't Change Me\"),\n",
       " Row(userId='10', sessionId=1981, page='NextSong', song='My Time'),\n",
       " Row(userId='10', sessionId=1981, page='NextSong', song='Mockingbird'),\n",
       " Row(userId='10', sessionId=1981, page='NextSong', song='[sic] [Molt-Injected Mix]'),\n",
       " Row(userId='10', sessionId=1981, page='NextSong', song='Happy Day'),\n",
       " Row(userId='10', sessionId=1981, page='NextSong', song='Chariot'),\n",
       " Row(userId='10', sessionId=1981, page='NextSong', song='Waiting For A Star To Fall'),\n",
       " Row(userId='10', sessionId=1981, page='NextSong', song='Cat And Mouse'),\n",
       " Row(userId='10', sessionId=1981, page='NextSong', song='Taking Control'),\n",
       " Row(userId='10', sessionId=1981, page='NextSong', song='Come Let Go'),\n",
       " Row(userId='10', sessionId=1981, page='NextSong', song='Wedding Dress'),\n",
       " Row(userId='10', sessionId=1981, page='NextSong', song='You Belong With Me'),\n",
       " Row(userId='10', sessionId=1981, page='NextSong', song='Deepest Blue'),\n",
       " Row(userId='10', sessionId=1981, page='Thumbs Up', song=None),\n",
       " Row(userId='10', sessionId=1981, page='NextSong', song='Here We Go Again (Album Version)'),\n",
       " Row(userId='10', sessionId=1981, page='NextSong', song='Christine'),\n",
       " Row(userId='10', sessionId=1981, page='NextSong', song='Paper Aeroplane'),\n",
       " Row(userId='10', sessionId=1981, page='NextSong', song='Bitches In Tokyo'),\n",
       " Row(userId='10', sessionId=1981, page='NextSong', song='Shawty Say'),\n",
       " Row(userId='10', sessionId=1981, page='NextSong', song='Let The Right One Slip In'),\n",
       " Row(userId='10', sessionId=1981, page='Thumbs Up', song=None),\n",
       " Row(userId='10', sessionId=1981, page='NextSong', song='A Lo Cubano'),\n",
       " Row(userId='10', sessionId=1981, page='Add to Playlist', song=None),\n",
       " Row(userId='10', sessionId=1981, page='NextSong', song='Hello'),\n",
       " Row(userId='10', sessionId=1981, page='NextSong', song='Sunshine (Feat. Anthony Hamilton) (Edited Album Version)'),\n",
       " Row(userId='10', sessionId=1981, page='NextSong', song='On Green Dolphin Street (Medley) (1999 Digital Remaster)'),\n",
       " Row(userId='10', sessionId=1981, page='NextSong', song='Canada'),\n",
       " Row(userId='10', sessionId=1981, page='Logout', song=None),\n",
       " Row(userId='10', sessionId=1981, page='Home', song=None),\n",
       " Row(userId='10', sessionId=1981, page='NextSong', song='Summer Storm'),\n",
       " Row(userId='10', sessionId=1981, page='Downgrade', song=None)]"
      ]
     },
     "execution_count": 23,
     "metadata": {},
     "output_type": "execute_result"
    }
   ],
   "source": [
    "user_log.select([\"userId\", \"sessionId\", \"page\", \"song\"]).where(user_log.userId == \"10\").collect()"
   ]
  },
  {
   "cell_type": "code",
   "execution_count": 26,
   "metadata": {},
   "outputs": [
    {
     "data": {
      "text/plain": [
       "278154"
      ]
     },
     "execution_count": 26,
     "metadata": {},
     "output_type": "execute_result"
    }
   ],
   "source": [
    "# For the rest of project we will work with not empty userIds users' logs.\n",
    "user_log = user_log.filter(user_log[\"userId\"] != \"\")\n",
    "user_log.count()"
   ]
  },
  {
   "cell_type": "code",
   "execution_count": 27,
   "metadata": {},
   "outputs": [
    {
     "name": "stdout",
     "output_type": "stream",
     "text": [
      "+------+-----+\n",
      "|userId|count|\n",
      "+------+-----+\n",
      "|    39| 9632|\n",
      "|    92| 7230|\n",
      "|   140| 6880|\n",
      "|300011| 5732|\n",
      "|   124| 4825|\n",
      "|300021| 4659|\n",
      "|300017| 4428|\n",
      "|    85| 4370|\n",
      "|    42| 4257|\n",
      "|200023| 3769|\n",
      "|     6| 3761|\n",
      "|    29| 3603|\n",
      "|    54| 3437|\n",
      "|   100| 3214|\n",
      "|     9| 3191|\n",
      "|   126| 3102|\n",
      "|300015| 3051|\n",
      "|    91| 3014|\n",
      "|    98| 2891|\n",
      "|    74| 2887|\n",
      "+------+-----+\n",
      "only showing top 20 rows\n",
      "\n"
     ]
    }
   ],
   "source": [
    "#Check the result\n",
    "df = user_log.select(\"userId\").groupby(\"userId\").count().orderBy(desc(\"count\"))\n",
    "df.show()"
   ]
  },
  {
   "cell_type": "markdown",
   "metadata": {},
   "source": [
    "Once filtered all the unregistrated users' logs we can go on our analysis."
   ]
  },
  {
   "cell_type": "code",
   "execution_count": 28,
   "metadata": {},
   "outputs": [
    {
     "name": "stdout",
     "output_type": "stream",
     "text": [
      "+--------------------+-----+\n",
      "|              artist|count|\n",
      "+--------------------+-----+\n",
      "|                null|50046|\n",
      "|       Kings Of Leon| 1841|\n",
      "|            Coldplay| 1813|\n",
      "|Florence + The Ma...| 1236|\n",
      "|       Dwight Yoakam| 1135|\n",
      "|            BjÃÂ¶rk| 1133|\n",
      "|      The Black Keys| 1125|\n",
      "|                Muse| 1090|\n",
      "|       Justin Bieber| 1044|\n",
      "|        Jack Johnson| 1007|\n",
      "|              Eminem|  953|\n",
      "|           Radiohead|  884|\n",
      "|     Alliance Ethnik|  876|\n",
      "|               Train|  854|\n",
      "|        Taylor Swift|  840|\n",
      "|         OneRepublic|  828|\n",
      "|         The Killers|  822|\n",
      "|         Linkin Park|  787|\n",
      "|         Evanescence|  781|\n",
      "|            Harmonia|  729|\n",
      "+--------------------+-----+\n",
      "only showing top 20 rows\n",
      "\n"
     ]
    },
    {
     "data": {
      "text/plain": [
       "17656"
      ]
     },
     "execution_count": 28,
     "metadata": {},
     "output_type": "execute_result"
    }
   ],
   "source": [
    "#Column analyse: artist\n",
    "df = user_log.select(\"artist\").groupby(\"artist\").count().orderBy(desc(\"count\"))\n",
    "df.show()\n",
    "df.count()"
   ]
  },
  {
   "cell_type": "code",
   "execution_count": 29,
   "metadata": {},
   "outputs": [
    {
     "data": {
      "text/plain": [
       "0.17992191376000344"
      ]
     },
     "execution_count": 29,
     "metadata": {},
     "output_type": "execute_result"
    }
   ],
   "source": [
    "# Get missing value rate for artist column\n",
    "50046/278154"
   ]
  },
  {
   "cell_type": "code",
   "execution_count": 30,
   "metadata": {},
   "outputs": [],
   "source": [
    "#Let's replace null with values 'unknown_artist'\n",
    "user_log = user_log.na.fill('unknown_artist', \"artist\")"
   ]
  },
  {
   "cell_type": "code",
   "execution_count": 31,
   "metadata": {},
   "outputs": [
    {
     "name": "stdout",
     "output_type": "stream",
     "text": [
      "+--------------------+-----+\n",
      "|              artist|count|\n",
      "+--------------------+-----+\n",
      "|      unknown_artist|50046|\n",
      "|       Kings Of Leon| 1841|\n",
      "|            Coldplay| 1813|\n",
      "|Florence + The Ma...| 1236|\n",
      "|       Dwight Yoakam| 1135|\n",
      "|            BjÃÂ¶rk| 1133|\n",
      "|      The Black Keys| 1125|\n",
      "|                Muse| 1090|\n",
      "|       Justin Bieber| 1044|\n",
      "|        Jack Johnson| 1007|\n",
      "|              Eminem|  953|\n",
      "|           Radiohead|  884|\n",
      "|     Alliance Ethnik|  876|\n",
      "|               Train|  854|\n",
      "|        Taylor Swift|  840|\n",
      "|         OneRepublic|  828|\n",
      "|         The Killers|  822|\n",
      "|         Linkin Park|  787|\n",
      "|         Evanescence|  781|\n",
      "|            Harmonia|  729|\n",
      "+--------------------+-----+\n",
      "only showing top 20 rows\n",
      "\n"
     ]
    }
   ],
   "source": [
    "# How many songs were played from the most played artist?\n",
    "most_played_artist_count = user_log.select(\"artist\").groupby(\"artist\").count().orderBy(desc(\"count\"))\n",
    "most_played_artist_count.show()"
   ]
  },
  {
   "cell_type": "code",
   "execution_count": 32,
   "metadata": {},
   "outputs": [
    {
     "name": "stdout",
     "output_type": "stream",
     "text": [
      "+---------+------+\n",
      "|     auth| count|\n",
      "+---------+------+\n",
      "|Logged In|278102|\n",
      "|Cancelled|    52|\n",
      "+---------+------+\n",
      "\n"
     ]
    },
    {
     "data": {
      "text/plain": [
       "2"
      ]
     },
     "execution_count": 32,
     "metadata": {},
     "output_type": "execute_result"
    }
   ],
   "source": [
    "#Column analyse : auth\n",
    "df = user_log.select(\"auth\").groupby(\"auth\").count().orderBy(desc(\"count\"))\n",
    "df.show()\n",
    "df.count()"
   ]
  },
  {
   "cell_type": "code",
   "execution_count": 33,
   "metadata": {},
   "outputs": [
    {
     "name": "stdout",
     "output_type": "stream",
     "text": [
      "+---------+-----+\n",
      "|firstName|count|\n",
      "+---------+-----+\n",
      "|   Payton| 9632|\n",
      "|    Riley| 7970|\n",
      "|   Lucero| 6880|\n",
      "|   Emilia| 5732|\n",
      "|     Emma| 5478|\n",
      "|   Joseph| 5209|\n",
      "|    Colin| 4989|\n",
      "|   Nicole| 4825|\n",
      "|   Joshua| 4654|\n",
      "|  Brayden| 4621|\n",
      "|  Alyssia| 4428|\n",
      "|   Jayden| 4268|\n",
      "|   Dillyn| 4257|\n",
      "|   Sophia| 4246|\n",
      "|   Bryson| 4172|\n",
      "|  Katiana| 3769|\n",
      "|   Oliver| 3657|\n",
      "|    Kaleb| 3603|\n",
      "|   Samuel| 3486|\n",
      "|    Alexi| 3437|\n",
      "+---------+-----+\n",
      "only showing top 20 rows\n",
      "\n"
     ]
    },
    {
     "data": {
      "text/plain": [
       "189"
      ]
     },
     "execution_count": 33,
     "metadata": {},
     "output_type": "execute_result"
    }
   ],
   "source": [
    "#Column analyse : firstName\n",
    "df = user_log.select(\"firstName\").groupby(\"firstName\").count().orderBy(desc(\"count\"))\n",
    "df.show()\n",
    "df.count()"
   ]
  },
  {
   "cell_type": "code",
   "execution_count": 34,
   "metadata": {},
   "outputs": [
    {
     "name": "stdout",
     "output_type": "stream",
     "text": [
      "+----------+-----+\n",
      "|  lastName|count|\n",
      "+----------+-----+\n",
      "|  Campbell|14060|\n",
      "|      Reed| 9284|\n",
      "|  Williams| 8410|\n",
      "|    Taylor| 7230|\n",
      "|   Johnson| 6106|\n",
      "|    Larson| 6105|\n",
      "|     House| 5732|\n",
      "|  Thompson| 5217|\n",
      "|     Jones| 4831|\n",
      "|      Beck| 4825|\n",
      "|     Allen| 4659|\n",
      "|   Stewart| 4461|\n",
      "|    Miller| 4428|\n",
      "|    Thomas| 4370|\n",
      "|Richardson| 4257|\n",
      "|  Phillips| 4002|\n",
      "|  Robinson| 3890|\n",
      "|   Daniels| 3769|\n",
      "|  Roberson| 3761|\n",
      "|      Long| 3483|\n",
      "+----------+-----+\n",
      "only showing top 20 rows\n",
      "\n"
     ]
    },
    {
     "data": {
      "text/plain": [
       "173"
      ]
     },
     "execution_count": 34,
     "metadata": {},
     "output_type": "execute_result"
    }
   ],
   "source": [
    "#Column analyse :lastName\n",
    "df = user_log.select(\"lastName\").groupby(\"lastName\").count().orderBy(desc(\"count\"))\n",
    "df.show()\n",
    "df.count()"
   ]
  },
  {
   "cell_type": "markdown",
   "metadata": {},
   "source": [
    "As we have unique user identifier userId we can skip the use of the columns firstName and lastName."
   ]
  },
  {
   "cell_type": "code",
   "execution_count": 35,
   "metadata": {},
   "outputs": [
    {
     "name": "stdout",
     "output_type": "stream",
     "text": [
      "+------+------+\n",
      "|gender| count|\n",
      "+------+------+\n",
      "|     F|154578|\n",
      "|     M|123576|\n",
      "+------+------+\n",
      "\n"
     ]
    },
    {
     "data": {
      "text/plain": [
       "2"
      ]
     },
     "execution_count": 35,
     "metadata": {},
     "output_type": "execute_result"
    }
   ],
   "source": [
    "#Column analyse : gender\n",
    "df = user_log.select(\"gender\").groupby(\"gender\").count().orderBy(desc(\"count\"))\n",
    "df.show()\n",
    "df.count()"
   ]
  },
  {
   "cell_type": "code",
   "execution_count": 36,
   "metadata": {},
   "outputs": [],
   "source": [
    "user_log = user_log.withColumn(\"gender\", \\\n",
    "              when(user_log[\"gender\"] == 'F', 'Female').otherwise(user_log[\"gender\"]))"
   ]
  },
  {
   "cell_type": "code",
   "execution_count": 37,
   "metadata": {},
   "outputs": [],
   "source": [
    "user_log = user_log.withColumn(\"gender\", \\\n",
    "              when(user_log[\"gender\"] == 'M', 'Male').otherwise(user_log[\"gender\"]))"
   ]
  },
  {
   "cell_type": "code",
   "execution_count": 38,
   "metadata": {},
   "outputs": [
    {
     "name": "stdout",
     "output_type": "stream",
     "text": [
      "+------+------+\n",
      "|gender| count|\n",
      "+------+------+\n",
      "|Female|154578|\n",
      "|  Male|123576|\n",
      "+------+------+\n",
      "\n"
     ]
    }
   ],
   "source": [
    "user_log.select(\"gender\").groupby(\"gender\").count().orderBy(desc(\"count\")).show()"
   ]
  },
  {
   "cell_type": "code",
   "execution_count": 39,
   "metadata": {},
   "outputs": [
    {
     "name": "stdout",
     "output_type": "stream",
     "text": [
      "+-------------+-----+\n",
      "|itemInSession|count|\n",
      "+-------------+-----+\n",
      "|            2| 2941|\n",
      "|            3| 2917|\n",
      "|            4| 2887|\n",
      "|            5| 2836|\n",
      "|            1| 2818|\n",
      "|            6| 2803|\n",
      "|            7| 2776|\n",
      "|            8| 2735|\n",
      "|            9| 2693|\n",
      "|            0| 2689|\n",
      "|           10| 2633|\n",
      "|           11| 2596|\n",
      "|           12| 2556|\n",
      "|           13| 2513|\n",
      "|           14| 2485|\n",
      "|           15| 2456|\n",
      "|           16| 2428|\n",
      "|           17| 2385|\n",
      "|           18| 2345|\n",
      "|           19| 2322|\n",
      "+-------------+-----+\n",
      "only showing top 20 rows\n",
      "\n"
     ]
    },
    {
     "data": {
      "text/plain": [
       "1311"
      ]
     },
     "execution_count": 39,
     "metadata": {},
     "output_type": "execute_result"
    }
   ],
   "source": [
    "# Column analyse : itemInSession\n",
    "df = user_log.select(\"itemInSession\").groupby(\"itemInSession\").count().orderBy(desc(\"count\"))\n",
    "df.show()\n",
    "df.count()"
   ]
  },
  {
   "cell_type": "code",
   "execution_count": 42,
   "metadata": {},
   "outputs": [
    {
     "name": "stdout",
     "output_type": "stream",
     "text": [
      "+---------+-----+\n",
      "|   length|count|\n",
      "+---------+-----+\n",
      "|     null|50046|\n",
      "| 239.3073| 1205|\n",
      "|348.57751| 1037|\n",
      "|201.79546|  908|\n",
      "|655.77751|  730|\n",
      "|277.15873|  645|\n",
      "|219.66322|  585|\n",
      "|224.67873|  522|\n",
      "|220.89098|  511|\n",
      "|236.09424|  450|\n",
      "|252.21179|  438|\n",
      "|233.69098|  436|\n",
      "|122.04363|  412|\n",
      "|195.94404|  408|\n",
      "|181.21098|  384|\n",
      "|225.17506|  379|\n",
      "|231.81016|  378|\n",
      "|216.76363|  362|\n",
      "|302.05342|  345|\n",
      "|233.89995|  314|\n",
      "+---------+-----+\n",
      "only showing top 20 rows\n",
      "\n"
     ]
    }
   ],
   "source": [
    "# Column analyse : length\n",
    "user_log.select(\"length\").groupby(\"length\").count().orderBy(desc(\"count\")).show()"
   ]
  },
  {
   "cell_type": "code",
   "execution_count": 40,
   "metadata": {},
   "outputs": [
    {
     "name": "stdout",
     "output_type": "stream",
     "text": [
      "+---------+-----+\n",
      "|   length|count|\n",
      "+---------+-----+\n",
      "|      0.0|50046|\n",
      "| 239.3073| 1205|\n",
      "|348.57751| 1037|\n",
      "|201.79546|  908|\n",
      "|655.77751|  730|\n",
      "|277.15873|  645|\n",
      "|219.66322|  585|\n",
      "|224.67873|  522|\n",
      "|220.89098|  511|\n",
      "|236.09424|  450|\n",
      "|252.21179|  438|\n",
      "|233.69098|  436|\n",
      "|122.04363|  412|\n",
      "|195.94404|  408|\n",
      "|181.21098|  384|\n",
      "|225.17506|  379|\n",
      "|231.81016|  378|\n",
      "|216.76363|  362|\n",
      "|302.05342|  345|\n",
      "|233.89995|  314|\n",
      "+---------+-----+\n",
      "only showing top 20 rows\n",
      "\n"
     ]
    }
   ],
   "source": [
    "# It seems to be the length of listedned part of the song so it will be interesting to keep this information. \n",
    "# Lets replace null values by value 0.\n",
    "user_log = user_log.na.fill(0.0, \"length\")\n",
    "user_log.select(\"length\").groupby(\"length\").count().orderBy(desc(\"count\")).show()"
   ]
  },
  {
   "cell_type": "code",
   "execution_count": 41,
   "metadata": {},
   "outputs": [
    {
     "name": "stdout",
     "output_type": "stream",
     "text": [
      "+-----+------+\n",
      "|level| count|\n",
      "+-----+------+\n",
      "| paid|222433|\n",
      "| free| 55721|\n",
      "+-----+------+\n",
      "\n"
     ]
    }
   ],
   "source": [
    "# Column analyse : level\n",
    "user_log.select(\"level\").groupby(\"level\").count().orderBy(desc(\"count\")).show()"
   ]
  },
  {
   "cell_type": "code",
   "execution_count": 42,
   "metadata": {},
   "outputs": [
    {
     "name": "stdout",
     "output_type": "stream",
     "text": [
      "+--------------------+-----+\n",
      "|            location|count|\n",
      "+--------------------+-----+\n",
      "|Los Angeles-Long ...|30131|\n",
      "|New York-Newark-J...|23684|\n",
      "|Boston-Cambridge-...|13873|\n",
      "|Houston-The Woodl...| 9499|\n",
      "|Charlotte-Concord...| 7780|\n",
      "|Dallas-Fort Worth...| 7605|\n",
      "|Louisville/Jeffer...| 6880|\n",
      "|Philadelphia-Camd...| 5890|\n",
      "|Chicago-Napervill...| 5114|\n",
      "|    St. Louis, MO-IL| 4858|\n",
      "|Phoenix-Mesa-Scot...| 4846|\n",
      "|Vineland-Bridgeto...| 4825|\n",
      "|          Wilson, NC| 4659|\n",
      "|Denver-Aurora-Lak...| 4453|\n",
      "|           Ionia, MI| 4428|\n",
      "|San Antonio-New B...| 4373|\n",
      "|        Danville, VA| 4257|\n",
      "|Atlanta-Sandy Spr...| 4236|\n",
      "|New Haven-Milford...| 4007|\n",
      "|         Jackson, MS| 3839|\n",
      "+--------------------+-----+\n",
      "only showing top 20 rows\n",
      "\n"
     ]
    },
    {
     "data": {
      "text/plain": [
       "114"
      ]
     },
     "execution_count": 42,
     "metadata": {},
     "output_type": "execute_result"
    }
   ],
   "source": [
    "#Column analyze : location\n",
    "df = user_log.select(\"location\").groupby(\"location\").count().orderBy(desc(\"count\"))\n",
    "df.show()\n",
    "df.count()"
   ]
  },
  {
   "cell_type": "code",
   "execution_count": 43,
   "metadata": {},
   "outputs": [
    {
     "name": "stdout",
     "output_type": "stream",
     "text": [
      "+------+------+\n",
      "|method| count|\n",
      "+------+------+\n",
      "|   PUT|257818|\n",
      "|   GET| 20336|\n",
      "+------+------+\n",
      "\n"
     ]
    },
    {
     "data": {
      "text/plain": [
       "2"
      ]
     },
     "execution_count": 43,
     "metadata": {},
     "output_type": "execute_result"
    }
   ],
   "source": [
    "#Column analyze : method\n",
    "df = user_log.select(\"method\").groupby(\"method\").count().orderBy(desc(\"count\"))\n",
    "df.show()\n",
    "df.count()"
   ]
  },
  {
   "cell_type": "markdown",
   "metadata": {},
   "source": [
    "It seems to be technical column so it may give us some insights about user's interaction with the platform. Let's keep this column for further analysis."
   ]
  },
  {
   "cell_type": "code",
   "execution_count": 44,
   "metadata": {},
   "outputs": [
    {
     "name": "stdout",
     "output_type": "stream",
     "text": [
      "+-------+------------------+\n",
      "|summary|         sessionId|\n",
      "+-------+------------------+\n",
      "|  count|            278154|\n",
      "|   mean|1042.5616241362698|\n",
      "| stddev| 726.5010362219813|\n",
      "|    min|                 1|\n",
      "|    max|              2474|\n",
      "+-------+------------------+\n",
      "\n"
     ]
    }
   ],
   "source": [
    "#Column analyse : sessionId\n",
    "user_log.describe(\"sessionId\").show()"
   ]
  },
  {
   "cell_type": "code",
   "execution_count": 45,
   "metadata": {},
   "outputs": [
    {
     "name": "stdout",
     "output_type": "stream",
     "text": [
      "+---------+\n",
      "|sessionId|\n",
      "+---------+\n",
      "|        1|\n",
      "|        2|\n",
      "|        3|\n",
      "|        4|\n",
      "|        5|\n",
      "|        6|\n",
      "|        7|\n",
      "|        8|\n",
      "|        9|\n",
      "|       10|\n",
      "|       11|\n",
      "|       12|\n",
      "|       13|\n",
      "|       15|\n",
      "|       16|\n",
      "|       17|\n",
      "|       18|\n",
      "|       19|\n",
      "|       20|\n",
      "|       21|\n",
      "+---------+\n",
      "only showing top 20 rows\n",
      "\n"
     ]
    },
    {
     "data": {
      "text/plain": [
       "2312"
      ]
     },
     "execution_count": 45,
     "metadata": {},
     "output_type": "execute_result"
    }
   ],
   "source": [
    "df = user_log.select(\"sessionId\").dropDuplicates().sort(\"sessionId\")\n",
    "df.show()\n",
    "df.count()"
   ]
  },
  {
   "cell_type": "code",
   "execution_count": 46,
   "metadata": {},
   "outputs": [
    {
     "name": "stdout",
     "output_type": "stream",
     "text": [
      "+--------------------+\n",
      "|                page|\n",
      "+--------------------+\n",
      "|               About|\n",
      "|          Add Friend|\n",
      "|     Add to Playlist|\n",
      "|              Cancel|\n",
      "|Cancellation Conf...|\n",
      "|           Downgrade|\n",
      "|               Error|\n",
      "|                Help|\n",
      "|                Home|\n",
      "|              Logout|\n",
      "|            NextSong|\n",
      "|         Roll Advert|\n",
      "|       Save Settings|\n",
      "|            Settings|\n",
      "|    Submit Downgrade|\n",
      "|      Submit Upgrade|\n",
      "|         Thumbs Down|\n",
      "|           Thumbs Up|\n",
      "|             Upgrade|\n",
      "+--------------------+\n",
      "\n"
     ]
    },
    {
     "data": {
      "text/plain": [
       "19"
      ]
     },
     "execution_count": 46,
     "metadata": {},
     "output_type": "execute_result"
    }
   ],
   "source": [
    "# Column analyse : page\n",
    "df = user_log.select(\"page\").dropDuplicates().sort(\"page\")\n",
    "df.show()\n",
    "df.count()"
   ]
  },
  {
   "cell_type": "code",
   "execution_count": 47,
   "metadata": {},
   "outputs": [
    {
     "name": "stdout",
     "output_type": "stream",
     "text": [
      "+-------------+-----+\n",
      "| registration|count|\n",
      "+-------------+-----+\n",
      "|1529027541000| 9632|\n",
      "|1536403972000| 7230|\n",
      "|1536642109000| 6880|\n",
      "|1538336771000| 5732|\n",
      "|1532224335000| 4825|\n",
      "|1537611935000| 4659|\n",
      "|1537082511000| 4428|\n",
      "|1534133898000| 4370|\n",
      "|1537811988000| 4257|\n",
      "|1537812949000| 3769|\n",
      "|1521380675000| 3761|\n",
      "|1536988041000| 3603|\n",
      "|1532482662000| 3437|\n",
      "|1537982255000| 3214|\n",
      "|1538331630000| 3191|\n",
      "|1538227408000| 3102|\n",
      "|1528780738000| 3051|\n",
      "|1533398428000| 3014|\n",
      "|1538069638000| 2891|\n",
      "|1537365219000| 2887|\n",
      "+-------------+-----+\n",
      "only showing top 20 rows\n",
      "\n"
     ]
    },
    {
     "data": {
      "text/plain": [
       "225"
      ]
     },
     "execution_count": 47,
     "metadata": {},
     "output_type": "execute_result"
    }
   ],
   "source": [
    "#Column analyze : registration\n",
    "df = user_log.select(\"registration\").groupby(\"registration\").count().orderBy(desc(\"count\"))\n",
    "df.show()\n",
    "df.count()\n"
   ]
  },
  {
   "cell_type": "code",
   "execution_count": 48,
   "metadata": {},
   "outputs": [
    {
     "data": {
      "text/plain": [
       "Row(artist='Martha Tilston', auth='Logged In', firstName='Colin', gender='Male', itemInSession=50, lastName='Freeman', length=277.89016, level='paid', location='Bakersfield, CA', method='PUT', page='NextSong', registration=1538173362000, sessionId=29, song='Rockpools', status=200, ts=1538352117000, userAgent='Mozilla/5.0 (Windows NT 6.1; WOW64; rv:31.0) Gecko/20100101 Firefox/31.0', userId='30', Churn=0, Downgraded=0, registration_year='2018')"
      ]
     },
     "execution_count": 48,
     "metadata": {},
     "output_type": "execute_result"
    }
   ],
   "source": [
    "#Check the year of registration\n",
    "get_year = udf(lambda x: datetime.datetime.fromtimestamp(x / 1000.0). year)\n",
    "df = user_log.withColumn(\"registration_year\", get_year(user_log.registration))\n",
    "df.head()"
   ]
  },
  {
   "cell_type": "code",
   "execution_count": 49,
   "metadata": {},
   "outputs": [],
   "source": [
    "df = df.select(\"registration_year\").groupby(\"registration_year\").count().orderBy(desc(\"count\"))"
   ]
  },
  {
   "cell_type": "code",
   "execution_count": 50,
   "metadata": {},
   "outputs": [
    {
     "name": "stdout",
     "output_type": "stream",
     "text": [
      "+-----------------+------+\n",
      "|registration_year| count|\n",
      "+-----------------+------+\n",
      "|             2018|278154|\n",
      "+-----------------+------+\n",
      "\n"
     ]
    }
   ],
   "source": [
    "df.show()"
   ]
  },
  {
   "cell_type": "markdown",
   "metadata": {},
   "source": [
    "As there is only one year let's check month. But with a bigger dataset we may have several valuesfor year, so let's keep it."
   ]
  },
  {
   "cell_type": "code",
   "execution_count": 51,
   "metadata": {},
   "outputs": [],
   "source": [
    "user_log = user_log.withColumn(\"registration_year\", get_year(user_log.registration))"
   ]
  },
  {
   "cell_type": "code",
   "execution_count": 52,
   "metadata": {},
   "outputs": [
    {
     "data": {
      "text/plain": [
       "Row(artist='Martha Tilston', auth='Logged In', firstName='Colin', gender='Male', itemInSession=50, lastName='Freeman', length=277.89016, level='paid', location='Bakersfield, CA', method='PUT', page='NextSong', registration=1538173362000, sessionId=29, song='Rockpools', status=200, ts=1538352117000, userAgent='Mozilla/5.0 (Windows NT 6.1; WOW64; rv:31.0) Gecko/20100101 Firefox/31.0', userId='30', Churn=0, Downgraded=0, registration_year='2018', registration_month='9')"
      ]
     },
     "execution_count": 52,
     "metadata": {},
     "output_type": "execute_result"
    }
   ],
   "source": [
    "#Check the month of registration\n",
    "get_month = udf(lambda x: datetime.datetime.fromtimestamp(x / 1000.0). month)\n",
    "df = user_log.withColumn(\"registration_month\", get_month(user_log.registration))\n",
    "df.head()"
   ]
  },
  {
   "cell_type": "code",
   "execution_count": 53,
   "metadata": {},
   "outputs": [
    {
     "name": "stdout",
     "output_type": "stream",
     "text": [
      "+------------------+------+\n",
      "|registration_month| count|\n",
      "+------------------+------+\n",
      "|                 9|165635|\n",
      "|                 8| 48386|\n",
      "|                 7| 33519|\n",
      "|                 6| 20523|\n",
      "|                 3|  3761|\n",
      "|                 5|  2391|\n",
      "|                11|  2257|\n",
      "|                10|  1682|\n",
      "+------------------+------+\n",
      "\n"
     ]
    },
    {
     "data": {
      "text/plain": [
       "8"
      ]
     },
     "execution_count": 53,
     "metadata": {},
     "output_type": "execute_result"
    }
   ],
   "source": [
    "df = df.select(\"registration_month\").groupby(\"registration_month\").count().orderBy(desc(\"count\"))\n",
    "df.show()\n",
    "df.count()"
   ]
  },
  {
   "cell_type": "markdown",
   "metadata": {},
   "source": [
    "Lets add this column to our dataset."
   ]
  },
  {
   "cell_type": "code",
   "execution_count": 54,
   "metadata": {},
   "outputs": [],
   "source": [
    "user_log = user_log.withColumn(\"registration_month\", get_month(user_log.registration))"
   ]
  },
  {
   "cell_type": "code",
   "execution_count": 55,
   "metadata": {},
   "outputs": [
    {
     "name": "stdout",
     "output_type": "stream",
     "text": [
      "+--------------------+-----+\n",
      "|                song|count|\n",
      "+--------------------+-----+\n",
      "|                null|50046|\n",
      "|      You're The One| 1153|\n",
      "|                Undo| 1026|\n",
      "|             Revelry|  854|\n",
      "|       Sehr kosmisch|  728|\n",
      "|Horn Concerto No....|  641|\n",
      "|Dog Days Are Over...|  574|\n",
      "|             Secrets|  466|\n",
      "|        Use Somebody|  459|\n",
      "|              Canada|  435|\n",
      "|             Invalid|  424|\n",
      "|    Ain't Misbehavin|  409|\n",
      "|       ReprÃÂ©sente|  393|\n",
      "|SinceritÃÂ© Et J...|  384|\n",
      "|Catch You Baby (S...|  373|\n",
      "|              Yellow|  343|\n",
      "|    Somebody To Love|  343|\n",
      "|    Hey_ Soul Sister|  334|\n",
      "|            The Gift|  327|\n",
      "|           Fireflies|  312|\n",
      "+--------------------+-----+\n",
      "only showing top 20 rows\n",
      "\n"
     ]
    },
    {
     "data": {
      "text/plain": [
       "58481"
      ]
     },
     "execution_count": 55,
     "metadata": {},
     "output_type": "execute_result"
    }
   ],
   "source": [
    "#Column analyze : song\n",
    "df = user_log.select(\"song\").groupby(\"song\").count().orderBy(desc(\"count\"))\n",
    "df.show()\n",
    "df.count()"
   ]
  },
  {
   "cell_type": "markdown",
   "metadata": {},
   "source": [
    "In the column song, the are too many missing values as well as to many different values. So for the moment we wont use this column."
   ]
  },
  {
   "cell_type": "code",
   "execution_count": 56,
   "metadata": {},
   "outputs": [
    {
     "name": "stdout",
     "output_type": "stream",
     "text": [
      "+------+------+\n",
      "|status| count|\n",
      "+------+------+\n",
      "|   200|254718|\n",
      "|   307| 23184|\n",
      "|   404|   252|\n",
      "+------+------+\n",
      "\n"
     ]
    }
   ],
   "source": [
    "#Column analyze : status\n",
    "df = user_log.select(\"status\").groupby(\"status\").count().orderBy(desc(\"count\"))\n",
    "df.show()\n",
    "#df.count()"
   ]
  },
  {
   "cell_type": "markdown",
   "metadata": {},
   "source": [
    "The column status seems to be a technical column. If we check the list of HTTP status codes, we see that :\n",
    "* 2xx Success, 200 OK \n",
    "* 3xx Redirection,  307 Temporary Redirect (since HTTP/1.1)\n",
    "* 4xx Client errors, 404 Not Found\n",
    "\n",
    "The users experiencing technical errors are more susceptive not to be happy with the platform and to churn. So let's keep this column as categorical column."
   ]
  },
  {
   "cell_type": "code",
   "execution_count": 57,
   "metadata": {},
   "outputs": [],
   "source": [
    "#Column analyze : userAgent\n",
    "df = user_log.select(\"userAgent\").groupby(\"userAgent\").count().orderBy(desc(\"count\"))"
   ]
  },
  {
   "cell_type": "code",
   "execution_count": 58,
   "metadata": {},
   "outputs": [
    {
     "name": "stdout",
     "output_type": "stream",
     "text": [
      "+--------------------+-----+\n",
      "|           userAgent|count|\n",
      "+--------------------+-----+\n",
      "|\"Mozilla/5.0 (Win...|22751|\n",
      "|\"Mozilla/5.0 (Mac...|19611|\n",
      "|\"Mozilla/5.0 (Mac...|18448|\n",
      "|\"Mozilla/5.0 (Mac...|17348|\n",
      "|Mozilla/5.0 (Wind...|16700|\n",
      "|\"Mozilla/5.0 (Win...|15395|\n",
      "|\"Mozilla/5.0 (Win...|14598|\n",
      "|Mozilla/5.0 (Maci...|10300|\n",
      "|\"Mozilla/5.0 (iPa...| 8912|\n",
      "|Mozilla/5.0 (comp...| 8624|\n",
      "|\"Mozilla/5.0 (Mac...| 8094|\n",
      "|\"Mozilla/5.0 (Win...| 7923|\n",
      "|\"Mozilla/5.0 (Mac...| 7906|\n",
      "|\"Mozilla/5.0 (Win...| 7624|\n",
      "|\"Mozilla/5.0 (iPh...| 6417|\n",
      "|Mozilla/5.0 (Wind...| 5989|\n",
      "|\"Mozilla/5.0 (Mac...| 5716|\n",
      "|\"Mozilla/5.0 (Win...| 5238|\n",
      "|\"Mozilla/5.0 (Win...| 4917|\n",
      "|Mozilla/5.0 (Wind...| 4663|\n",
      "+--------------------+-----+\n",
      "only showing top 20 rows\n",
      "\n"
     ]
    },
    {
     "data": {
      "text/plain": [
       "56"
      ]
     },
     "execution_count": 58,
     "metadata": {},
     "output_type": "execute_result"
    }
   ],
   "source": [
    "#Column analyze : userAgent\n",
    "df.show()\n",
    "df.count()"
   ]
  },
  {
   "cell_type": "markdown",
   "metadata": {},
   "source": [
    "Let's do some more analysis to understand better our data set."
   ]
  },
  {
   "cell_type": "code",
   "execution_count": 60,
   "metadata": {},
   "outputs": [
    {
     "name": "stdout",
     "output_type": "stream",
     "text": [
      "There are 104 female, 121 male and 0 unknow_gender users  and in our dataset.\n"
     ]
    }
   ],
   "source": [
    "# Distribution of genders in the data set..\n",
    "nb_female = user_log.select([\"userId\"]).where(\"gender = 'Female'\").dropDuplicates().count()\n",
    "nb_male = user_log.select([\"userId\"]).where(\"gender = 'Male'\").dropDuplicates().count()\n",
    "nb_unkown_gender = user_log.select([\"userId\"]).where(\"gender = 'unknown_gender'\").dropDuplicates().count()\n",
    "print('There are {} female, {} male and {} unknow_gender users  and in our dataset.'.format(nb_female, nb_male, nb_unkown_gender))"
   ]
  },
  {
   "cell_type": "code",
   "execution_count": 61,
   "metadata": {},
   "outputs": [
    {
     "name": "stdout",
     "output_type": "stream",
     "text": [
      "+--------------------+-----+\n",
      "|              artist|count|\n",
      "+--------------------+-----+\n",
      "|      unknown_artist|50046|\n",
      "|       Kings Of Leon| 1841|\n",
      "|            Coldplay| 1813|\n",
      "|Florence + The Ma...| 1236|\n",
      "|       Dwight Yoakam| 1135|\n",
      "|            BjÃÂ¶rk| 1133|\n",
      "|      The Black Keys| 1125|\n",
      "|                Muse| 1090|\n",
      "|       Justin Bieber| 1044|\n",
      "|        Jack Johnson| 1007|\n",
      "|              Eminem|  953|\n",
      "|           Radiohead|  884|\n",
      "|     Alliance Ethnik|  876|\n",
      "|               Train|  854|\n",
      "|        Taylor Swift|  840|\n",
      "|         OneRepublic|  828|\n",
      "|         The Killers|  822|\n",
      "|         Linkin Park|  787|\n",
      "|         Evanescence|  781|\n",
      "|            Harmonia|  729|\n",
      "+--------------------+-----+\n",
      "only showing top 20 rows\n",
      "\n"
     ]
    }
   ],
   "source": [
    "# How many songs were played from the most played artist?\n",
    "most_played_artist_count = user_log.select(\"artist\").groupby(\"artist\").count().orderBy(desc(\"count\")).show()"
   ]
  },
  {
   "cell_type": "markdown",
   "metadata": {},
   "source": [
    "### Calculating Statistics by Hour"
   ]
  },
  {
   "cell_type": "code",
   "execution_count": 62,
   "metadata": {},
   "outputs": [
    {
     "data": {
      "text/plain": [
       "Row(artist='Martha Tilston', auth='Logged In', firstName='Colin', gender='Male', itemInSession=50, lastName='Freeman', length=277.89016, level='paid', location='Bakersfield, CA', method='PUT', page='NextSong', registration=1538173362000, sessionId=29, song='Rockpools', status=200, ts=1538352117000, userAgent='Mozilla/5.0 (Windows NT 6.1; WOW64; rv:31.0) Gecko/20100101 Firefox/31.0', userId='30', Churn=0, Downgraded=0, registration_year='2018', registration_month='9', hour='0')"
      ]
     },
     "execution_count": 62,
     "metadata": {},
     "output_type": "execute_result"
    }
   ],
   "source": [
    "get_hour = udf(lambda x: datetime.datetime.fromtimestamp(x / 1000.0). hour)\n",
    "user_log = user_log.withColumn(\"hour\", get_hour(user_log.ts))\n",
    "user_log.head()"
   ]
  },
  {
   "cell_type": "code",
   "execution_count": 63,
   "metadata": {},
   "outputs": [],
   "source": [
    "songs_in_hour = user_log.filter(user_log.page == \"NextSong\").groupby(user_log.hour).count().orderBy(user_log.hour.cast(\"float\"))"
   ]
  },
  {
   "cell_type": "code",
   "execution_count": 64,
   "metadata": {},
   "outputs": [
    {
     "name": "stdout",
     "output_type": "stream",
     "text": [
      "+----+-----+\n",
      "|hour|count|\n",
      "+----+-----+\n",
      "|   0| 9062|\n",
      "|   1| 8388|\n",
      "|   2| 8336|\n",
      "|   3| 8355|\n",
      "|   4| 8147|\n",
      "|   5| 8178|\n",
      "|   6| 8054|\n",
      "|   7| 8091|\n",
      "|   8| 8253|\n",
      "|   9| 8498|\n",
      "|  10| 8882|\n",
      "|  11| 8830|\n",
      "|  12| 9326|\n",
      "|  13| 9644|\n",
      "|  14|10494|\n",
      "|  15|11354|\n",
      "|  16|11636|\n",
      "|  17|11460|\n",
      "|  18|11124|\n",
      "|  19|10930|\n",
      "+----+-----+\n",
      "only showing top 20 rows\n",
      "\n"
     ]
    }
   ],
   "source": [
    "songs_in_hour.show()"
   ]
  },
  {
   "cell_type": "code",
   "execution_count": 65,
   "metadata": {},
   "outputs": [],
   "source": [
    "songs_in_hour_pd = songs_in_hour.toPandas()\n",
    "songs_in_hour_pd.hour = pd.to_numeric(songs_in_hour_pd.hour)"
   ]
  },
  {
   "cell_type": "code",
   "execution_count": 66,
   "metadata": {},
   "outputs": [
    {
     "data": {
      "image/png": "[encoded data removed]",
      "text/plain": [
       "<matplotlib.figure.Figure at 0x7fce43b586a0>"
      ]
     },
     "metadata": {
      "needs_background": "light"
     },
     "output_type": "display_data"
    }
   ],
   "source": [
    "plt.scatter(songs_in_hour_pd[\"hour\"], songs_in_hour_pd[\"count\"])\n",
    "plt.xlim(-1, 24);\n",
    "plt.ylim(0, 1.2 * max(songs_in_hour_pd[\"count\"]))\n",
    "plt.xlabel(\"Hour\")\n",
    "plt.ylabel(\"Songs played\");"
   ]
  },
  {
   "cell_type": "code",
   "execution_count": 67,
   "metadata": {},
   "outputs": [],
   "source": [
    "windowval = Window.partitionBy(\"userId\").orderBy(desc(\"ts\")).rangeBetween(Window.unboundedPreceding, 0)\n",
    "user_log = user_log.withColumn(\"phase\", Fsum(\"downgraded\").over(windowval))\n",
    "#user_log.select([\"userId\", \"firstname\", \"page\", \"level\", \"song\", \"phase\"]).where(user_log.userId == \"141\").collect()"
   ]
  },
  {
   "cell_type": "code",
   "execution_count": 68,
   "metadata": {},
   "outputs": [],
   "source": [
    "def save_as_csv(data, path):\n",
    "    data.write.save(path, format=\"csv\", header=True)\n",
    "    \n",
    "def load_from_csv(spark, path):\n",
    "    data = spark.read.csv(path, header=True)\n",
    "    return data\n"
   ]
  },
  {
   "cell_type": "code",
   "execution_count": 69,
   "metadata": {},
   "outputs": [],
   "source": [
    "path = \"data/sparkify_log_small_6.csv\"\n",
    "save_as_csv(user_log, path)"
   ]
  },
  {
   "cell_type": "code",
   "execution_count": 70,
   "metadata": {},
   "outputs": [],
   "source": [
    "path = \"data/sparkify_log_small_6.csv\"\n",
    "user_log = load_from_csv(spark_session, path)"
   ]
  },
  {
   "cell_type": "code",
   "execution_count": 71,
   "metadata": {},
   "outputs": [
    {
     "name": "stdout",
     "output_type": "stream",
     "text": [
      "root\n",
      " |-- artist: string (nullable = true)\n",
      " |-- auth: string (nullable = true)\n",
      " |-- firstName: string (nullable = true)\n",
      " |-- gender: string (nullable = true)\n",
      " |-- itemInSession: string (nullable = true)\n",
      " |-- lastName: string (nullable = true)\n",
      " |-- length: string (nullable = true)\n",
      " |-- level: string (nullable = true)\n",
      " |-- location: string (nullable = true)\n",
      " |-- method: string (nullable = true)\n",
      " |-- page: string (nullable = true)\n",
      " |-- registration: string (nullable = true)\n",
      " |-- sessionId: string (nullable = true)\n",
      " |-- song: string (nullable = true)\n",
      " |-- status: string (nullable = true)\n",
      " |-- ts: string (nullable = true)\n",
      " |-- userAgent: string (nullable = true)\n",
      " |-- userId: string (nullable = true)\n",
      " |-- Churn: string (nullable = true)\n",
      " |-- Downgraded: string (nullable = true)\n",
      " |-- registration_year: string (nullable = true)\n",
      " |-- registration_month: string (nullable = true)\n",
      " |-- hour: string (nullable = true)\n",
      " |-- phase: string (nullable = true)\n",
      "\n"
     ]
    }
   ],
   "source": [
    "user_log.printSchema()"
   ]
  },
  {
   "cell_type": "markdown",
   "metadata": {},
   "source": [
    "# 3. Feature Engineering\n",
    "Once we have familiarized ourself with the data, we build out the features to train your model on. To work with the full dataset, we can follow the following steps.\n",
    "- Write a script to extract the necessary features from the smaller subset of data\n",
    "- Ensure that our script is scalable, using the best practices discussed in Lesson 3\n",
    "- Try our script on the full data set, debugging your script if necessary\n",
    "\n",
    "Let's begin by defining numerical and categorical columns."
   ]
  },
  {
   "cell_type": "code",
   "execution_count": 72,
   "metadata": {},
   "outputs": [],
   "source": [
    "numerical_columns = [\n",
    "        'itemInSession',\n",
    "        'length']"
   ]
  },
  {
   "cell_type": "code",
   "execution_count": 76,
   "metadata": {},
   "outputs": [],
   "source": [
    "categorical_columns =[\n",
    "    \"auth\",\n",
    "    \"artist\",\n",
    "    \"gender\",\n",
    "    \"level\",\n",
    "    \"page\",\n",
    "    \"status\",\n",
    "    \"userId\",\n",
    "    \"method\",\n",
    "    \"Churn\",\n",
    "    \"Downgraded\",\n",
    "    \"phase\",\n",
    "    \"registration_year\",\n",
    "    \"registration_month\",\n",
    "    \"hour\",\n",
    "]"
   ]
  },
  {
   "cell_type": "code",
   "execution_count": 77,
   "metadata": {},
   "outputs": [
    {
     "data": {
      "text/plain": [
       "['auth',\n",
       " 'artist',\n",
       " 'gender',\n",
       " 'level',\n",
       " 'page',\n",
       " 'status',\n",
       " 'userId',\n",
       " 'method',\n",
       " 'Churn',\n",
       " 'Downgraded',\n",
       " 'phase',\n",
       " 'registration_year',\n",
       " 'registration_month',\n",
       " 'hour',\n",
       " 'itemInSession',\n",
       " 'length']"
      ]
     },
     "execution_count": 77,
     "metadata": {},
     "output_type": "execute_result"
    }
   ],
   "source": [
    "all_columns = categorical_columns.copy()\n",
    "for col in numerical_columns:\n",
    "    all_columns.append(col)\n",
    "all_columns"
   ]
  },
  {
   "cell_type": "code",
   "execution_count": 78,
   "metadata": {},
   "outputs": [],
   "source": [
    "registreted_user_log = user_log.select(all_columns)"
   ]
  },
  {
   "cell_type": "code",
   "execution_count": 79,
   "metadata": {},
   "outputs": [],
   "source": [
    "# Change the type of numerical features tu integer\n",
    "for col in numerical_columns:\n",
    "    registreted_user_log = registreted_user_log.withColumn(col,registreted_user_log[col].cast(IntegerType()))"
   ]
  },
  {
   "cell_type": "code",
   "execution_count": 80,
   "metadata": {},
   "outputs": [],
   "source": [
    "assembler = VectorAssembler(inputCols=numerical_columns, outputCol=\"num_features\")\n",
    "registreted_user_log = assembler.transform(registreted_user_log)\n",
    "standard_scaler = StandardScaler(inputCol=\"num_features\", outputCol=\"SScaler_num_features\", withMean=True, withStd=True)\n",
    "standard_scaler_model = standard_scaler.fit(registreted_user_log)\n",
    "registreted_user_log = standard_scaler_model.transform(registreted_user_log)"
   ]
  },
  {
   "cell_type": "code",
   "execution_count": 81,
   "metadata": {},
   "outputs": [],
   "source": [
    "for col in categorical_columns:\n",
    "    indexer = StringIndexer(inputCol=col, outputCol=\"Idx_\"+col)\n",
    "    registreted_user_log = indexer.fit(registreted_user_log).transform(registreted_user_log)\n"
   ]
  },
  {
   "cell_type": "code",
   "execution_count": 82,
   "metadata": {},
   "outputs": [
    {
     "name": "stdout",
     "output_type": "stream",
     "text": [
      "root\n",
      " |-- auth: string (nullable = true)\n",
      " |-- artist: string (nullable = true)\n",
      " |-- gender: string (nullable = true)\n",
      " |-- level: string (nullable = true)\n",
      " |-- page: string (nullable = true)\n",
      " |-- status: string (nullable = true)\n",
      " |-- userId: string (nullable = true)\n",
      " |-- method: string (nullable = true)\n",
      " |-- Churn: string (nullable = true)\n",
      " |-- Downgraded: string (nullable = true)\n",
      " |-- phase: string (nullable = true)\n",
      " |-- registration_year: string (nullable = true)\n",
      " |-- registration_month: string (nullable = true)\n",
      " |-- hour: string (nullable = true)\n",
      " |-- itemInSession: integer (nullable = true)\n",
      " |-- length: integer (nullable = true)\n",
      " |-- num_features: vector (nullable = true)\n",
      " |-- SScaler_num_features: vector (nullable = true)\n",
      " |-- Idx_auth: double (nullable = false)\n",
      " |-- Idx_artist: double (nullable = false)\n",
      " |-- Idx_gender: double (nullable = false)\n",
      " |-- Idx_level: double (nullable = false)\n",
      " |-- Idx_page: double (nullable = false)\n",
      " |-- Idx_status: double (nullable = false)\n",
      " |-- Idx_userId: double (nullable = false)\n",
      " |-- Idx_method: double (nullable = false)\n",
      " |-- Idx_Churn: double (nullable = false)\n",
      " |-- Idx_Downgraded: double (nullable = false)\n",
      " |-- Idx_phase: double (nullable = false)\n",
      " |-- Idx_registration_year: double (nullable = false)\n",
      " |-- Idx_registration_month: double (nullable = false)\n",
      " |-- Idx_hour: double (nullable = false)\n",
      "\n"
     ]
    }
   ],
   "source": [
    "registreted_user_log.printSchema()"
   ]
  },
  {
   "cell_type": "code",
   "execution_count": 83,
   "metadata": {},
   "outputs": [],
   "source": [
    "new_categorical_columns = []\n",
    "for col in categorical_columns:\n",
    "    new_categorical_columns.append(\"Idx_\" + col)"
   ]
  },
  {
   "cell_type": "code",
   "execution_count": 84,
   "metadata": {},
   "outputs": [
    {
     "data": {
      "text/plain": [
       "['Idx_auth',\n",
       " 'Idx_artist',\n",
       " 'Idx_gender',\n",
       " 'Idx_level',\n",
       " 'Idx_page',\n",
       " 'Idx_status',\n",
       " 'Idx_userId',\n",
       " 'Idx_method',\n",
       " 'Idx_Churn',\n",
       " 'Idx_Downgraded',\n",
       " 'Idx_phase',\n",
       " 'Idx_registration_year',\n",
       " 'Idx_registration_month',\n",
       " 'Idx_hour']"
      ]
     },
     "execution_count": 84,
     "metadata": {},
     "output_type": "execute_result"
    }
   ],
   "source": [
    "new_categorical_columns"
   ]
  },
  {
   "cell_type": "code",
   "execution_count": 85,
   "metadata": {},
   "outputs": [],
   "source": [
    "new_numerical_columns = \"SScaler_num_features\""
   ]
  },
  {
   "cell_type": "code",
   "execution_count": 86,
   "metadata": {},
   "outputs": [
    {
     "data": {
      "text/plain": [
       "['Idx_auth',\n",
       " 'Idx_artist',\n",
       " 'Idx_gender',\n",
       " 'Idx_level',\n",
       " 'Idx_page',\n",
       " 'Idx_status',\n",
       " 'Idx_userId',\n",
       " 'Idx_method',\n",
       " 'Idx_Churn',\n",
       " 'Idx_Downgraded',\n",
       " 'Idx_phase',\n",
       " 'Idx_registration_year',\n",
       " 'Idx_registration_month',\n",
       " 'Idx_hour',\n",
       " 'SScaler_num_features']"
      ]
     },
     "execution_count": 86,
     "metadata": {},
     "output_type": "execute_result"
    }
   ],
   "source": [
    "new_all_columns = new_categorical_columns.copy()\n",
    "new_all_columns.append(new_numerical_columns)\n",
    "new_all_columns"
   ]
  },
  {
   "cell_type": "code",
   "execution_count": 87,
   "metadata": {},
   "outputs": [],
   "source": [
    "#The list of column to keep\n",
    "processed_user_log = registreted_user_log.select(new_all_columns)"
   ]
  },
  {
   "cell_type": "code",
   "execution_count": 88,
   "metadata": {},
   "outputs": [
    {
     "data": {
      "text/plain": [
       "['Idx_auth',\n",
       " 'Idx_artist',\n",
       " 'Idx_gender',\n",
       " 'Idx_level',\n",
       " 'Idx_page',\n",
       " 'Idx_status',\n",
       " 'Idx_userId',\n",
       " 'Idx_method',\n",
       " 'Idx_Churn',\n",
       " 'Idx_Downgraded',\n",
       " 'Idx_phase',\n",
       " 'Idx_registration_year',\n",
       " 'Idx_registration_month',\n",
       " 'Idx_hour',\n",
       " 'SScaler_num_features']"
      ]
     },
     "execution_count": 88,
     "metadata": {},
     "output_type": "execute_result"
    }
   ],
   "source": [
    "processed_user_log.columns"
   ]
  },
  {
   "cell_type": "markdown",
   "metadata": {},
   "source": [
    "# 4. Modeling\n",
    "Split the full dataset into train, test, and validation sets. Test out several of the machine learning methods you learned. Evaluate the accuracy of the various models, tuning parameters as necessary. Determine your winning model based on test accuracy and report results on the validation set. Since the churned users are a fairly small subset, I suggest using F1 score as the metric to optimize."
   ]
  },
  {
   "cell_type": "markdown",
   "metadata": {},
   "source": [
    "### 4.1. Train Test Split"
   ]
  },
  {
   "cell_type": "code",
   "execution_count": 90,
   "metadata": {},
   "outputs": [
    {
     "name": "stdout",
     "output_type": "stream",
     "text": [
      "Training Dataset Count: 194863\n",
      "Test Dataset Count: 83291\n"
     ]
    }
   ],
   "source": [
    "rest, validation = processed_user_log.randomSplit([0.7, 0.3], seed = 42)\n",
    "print(\"Training Dataset Count: \" + str(rest.count()))\n",
    "print(\"Test Dataset Count: \" + str(validation.count()))"
   ]
  },
  {
   "cell_type": "markdown",
   "metadata": {},
   "source": [
    "### 4.2. Build Pipeline"
   ]
  },
  {
   "cell_type": "code",
   "execution_count": 91,
   "metadata": {},
   "outputs": [],
   "source": [
    "features = []\n",
    "for col in processed_user_log.columns:\n",
    "    if col not in [\"Idx_Churn\", 'Idx_Downgraded'] :\n",
    "        features.append(col)"
   ]
  },
  {
   "cell_type": "code",
   "execution_count": 92,
   "metadata": {},
   "outputs": [
    {
     "data": {
      "text/plain": [
       "['Idx_auth',\n",
       " 'Idx_artist',\n",
       " 'Idx_gender',\n",
       " 'Idx_level',\n",
       " 'Idx_page',\n",
       " 'Idx_status',\n",
       " 'Idx_userId',\n",
       " 'Idx_method',\n",
       " 'Idx_phase',\n",
       " 'Idx_registration_year',\n",
       " 'Idx_registration_month',\n",
       " 'Idx_hour',\n",
       " 'SScaler_num_features']"
      ]
     },
     "execution_count": 92,
     "metadata": {},
     "output_type": "execute_result"
    }
   ],
   "source": [
    "features"
   ]
  },
  {
   "cell_type": "code",
   "execution_count": 93,
   "metadata": {},
   "outputs": [],
   "source": [
    "assembler = VectorAssembler(inputCols = features, outputCol='features')\n",
    "pca = PCA(k=10, inputCol='features', outputCol='pcaFeature')\n",
    "churn_indexer = StringIndexer(inputCol=\"Idx_Churn\", outputCol=\"label\")\n",
    "lr = LogisticRegression(maxIter=10, regParam=0.3)\n",
    "churn_pipeline = Pipeline (stages=[assembler, pca, churn_indexer, lr])"
   ]
  },
  {
   "cell_type": "code",
   "execution_count": 94,
   "metadata": {},
   "outputs": [],
   "source": [
    "assembler = VectorAssembler(inputCols = features, outputCol='features')\n",
    "pca = PCA(k=10, inputCol='features', outputCol='pcaFeature')\n",
    "indexer = StringIndexer(inputCol=\"Idx_Downgraded\", outputCol=\"label\")\n",
    "lr = LogisticRegression(maxIter=10, regParam=0.3)\n",
    "downgraded_pipeline = Pipeline (stages=[assembler, pca, indexer, lr])"
   ]
  },
  {
   "cell_type": "markdown",
   "metadata": {},
   "source": [
    "### 4.3. Tune Model\n"
   ]
  },
  {
   "cell_type": "code",
   "execution_count": 95,
   "metadata": {},
   "outputs": [],
   "source": [
    "paramGrid = ParamGridBuilder() \\\n",
    "    .addGrid(lr.maxIter,[100, 50]) \\\n",
    "    .addGrid(lr.regParam,[0.0, 0.1]) \\\n",
    "    .build()\n",
    "\n",
    "\n",
    "churn_crossval = CrossValidator(estimator=churn_pipeline,\n",
    "                          estimatorParamMaps=paramGrid,\n",
    "                          evaluator=MulticlassClassificationEvaluator(),\n",
    "                          numFolds=3)\n",
    "\n",
    "downgraded_crossval = CrossValidator(estimator=downgraded_pipeline,\n",
    "                          estimatorParamMaps=paramGrid,\n",
    "                          evaluator=MulticlassClassificationEvaluator(),\n",
    "                          numFolds=3)"
   ]
  },
  {
   "cell_type": "markdown",
   "metadata": {},
   "source": [
    "After training the model when we check the average cross-validation metrics by avgMetrics."
   ]
  },
  {
   "cell_type": "code",
   "execution_count": 96,
   "metadata": {},
   "outputs": [
    {
     "name": "stdout",
     "output_type": "stream",
     "text": [
      "[0.9997074462177573, 0.9997074462177573, 0.9997074462177573, 0.9997074462177573]\n"
     ]
    }
   ],
   "source": [
    "churn_model = churn_crossval.fit(rest)\n",
    "print(churn_model.avgMetrics)\n",
    "churn_results = churn_model.transform(validation)"
   ]
  },
  {
   "cell_type": "code",
   "execution_count": 97,
   "metadata": {},
   "outputs": [
    {
     "name": "stdout",
     "output_type": "stream",
     "text": [
      "[0.9998904086672493, 0.9996071638622808, 0.9998904086672493, 0.9996071638622808]\n"
     ]
    }
   ],
   "source": [
    "downgraded_model = downgraded_crossval.fit(rest)\n",
    "print(downgraded_model.avgMetrics)\n",
    "downgraded_results = churn_model.transform(validation)"
   ]
  },
  {
   "cell_type": "code",
   "execution_count": 98,
   "metadata": {},
   "outputs": [
    {
     "name": "stdout",
     "output_type": "stream",
     "text": [
      "83277\n",
      "83291\n"
     ]
    }
   ],
   "source": [
    "churn_counts_Pred_OK = churn_results.filter(churn_results.label == churn_results.prediction).count()\n",
    "churn_counts_Total = churn_results.count()\n",
    "print(churn_counts_Pred_OK)\n",
    "print(churn_counts_Total)"
   ]
  },
  {
   "cell_type": "code",
   "execution_count": 99,
   "metadata": {},
   "outputs": [
    {
     "name": "stdout",
     "output_type": "stream",
     "text": [
      "83277\n",
      "83291\n"
     ]
    }
   ],
   "source": [
    "downgraded_counts_Pred_OK = downgraded_results.filter(downgraded_results.label == downgraded_results.prediction).count()\n",
    "downgraded_counts_Total = downgraded_results.count()\n",
    "print(downgraded_counts_Pred_OK)\n",
    "print(downgraded_counts_Total)"
   ]
  },
  {
   "cell_type": "markdown",
   "metadata": {},
   "source": [
    "# 5. Conclusion\n",
    "\n",
    "As we can see from the result the predictions are enough good. The use of LogisticRegression, CrossValidator let us predict users' future actions with high accuracy. The main pain points of this analysis were feature engineering and pipeline creation as they are slightly different with  pyspark&ml than with python&scikitlearn.\n",
    "\n",
    "This analysis was done in the workspace provided by Udacity and on the data set mini_sparkify_event_data.json of small size and inspired by the materials learned during the lessons. The next is to continue the analysis on the full dataset is of size 12GB in cloud…"
   ]
  },
  {
   "cell_type": "code",
   "execution_count": null,
   "metadata": {},
   "outputs": [],
   "source": []
  }
 ],
 "metadata": {
  "kernelspec": {
   "display_name": "Python 3",
   "language": "python",
   "name": "python3"
  },
  "language_info": {
   "codemirror_mode": {
    "name": "ipython",
    "version": 3
   },
   "file_extension": ".py",
   "mimetype": "text/x-python",
   "name": "python",
   "nbconvert_exporter": "python",
   "pygments_lexer": "ipython3",
   "version": "3.6.3"
  }
 },
 "nbformat": 4,
 "nbformat_minor": 2
}
